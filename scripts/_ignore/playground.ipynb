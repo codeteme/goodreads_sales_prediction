{
 "cells": [
  {
   "cell_type": "code",
   "execution_count": null,
   "metadata": {},
   "outputs": [],
   "source": [
    "# import selenium to check version\n",
    "import selenium\n",
    "assert selenium. __version__ == '4.0.0'\n",
    "\n",
    "#Simple assignment\n",
    "from selenium.webdriver import Firefox\n",
    "from selenium.webdriver.firefox.options import Options\n",
    "\n",
    "from selenium.webdriver.firefox.service import Service\n",
    "from webdriver_manager.firefox import GeckoDriverManager\n",
    "\n",
    "\n",
    "options = Options()\n",
    "options.headless = True\n",
    "\n",
    "# driver = Firefox(options=options, executable_path='/Users/tmt0947/Development/geckodriver')\n",
    "driver = Firefox(service=Service(GeckoDriverManager().install()), options=options)\n",
    "\n",
    "url = \"https://www.goodreads.com/shelf/show/fiction?page=2\"\n",
    "driver.get(url)\n",
    "print(\"Headless Firefox Initialized\")\n",
    "html = driver.page_source\n",
    "print(html)\n",
    "# close web browser\n",
    "driver.close()\n",
    "driver.quit()\n"
   ]
  },
  {
   "cell_type": "code",
   "execution_count": null,
   "metadata": {},
   "outputs": [],
   "source": [
    "# def all_books_test(all_books):\n",
    "#     roots = all_books()\n",
    "    \n",
    "#     num_pages = 25 \n",
    "    \n",
    "#     test.equal(len(roots), num_pages) \n",
    "#     test.equal(isinstance(roots, list), True) \n",
    "\n",
    "\n",
    "# @test\n",
    "# def all_books():\n",
    "#     \"\"\"\n",
    "#     Retrieve ALL the books on goodreads for a given query.\n",
    "\n",
    "#     Returns:\n",
    "#         results (list): list of dicts representing each books\n",
    "#     \"\"\"\n",
    "\n",
    "#     url = \"https://www.goodreads.com/shelf/show/fiction\"\n",
    "#     offset = 0\n",
    "#     roots = list() # Create a list to store beautifulsoup objects\n",
    "\n",
    "#     query = 1\n",
    "#     params = {\"page\": query}\n",
    "#     response = requests.get(url, params=params)\n",
    "\n",
    "#     assert response.status_code == 200\n",
    "\n",
    "#     num_pages = 25\n",
    "\n",
    "#     for i in range(num_pages):\n",
    "#         response = requests.get(url, params=params)\n",
    "#         # response.text (string): String of HTML corresponding to a page of 50 books\n",
    "#         root = BeautifulSoup(response.text, 'html.parser')\n",
    "#         roots.append(root)\n",
    "        \n",
    "#         offset += 1\n",
    "#         params[\"page\"] = offset \n",
    "#         time.sleep(0.2) \n",
    "\n",
    "#     return roots "
   ]
  }
 ],
 "metadata": {
  "interpreter": {
   "hash": "7d9279c439293cd56693e7c05115c53cbb1633ee63d7052d68a345e17a860490"
  },
  "kernelspec": {
   "display_name": "Python 3.9.6 64-bit ('csx433env': conda)",
   "language": "python",
   "name": "python3"
  },
  "language_info": {
   "codemirror_mode": {
    "name": "ipython",
    "version": 3
   },
   "file_extension": ".py",
   "mimetype": "text/x-python",
   "name": "python",
   "nbconvert_exporter": "python",
   "pygments_lexer": "ipython3",
   "version": "3.9.6"
  },
  "orig_nbformat": 4
 },
 "nbformat": 4,
 "nbformat_minor": 2
}
