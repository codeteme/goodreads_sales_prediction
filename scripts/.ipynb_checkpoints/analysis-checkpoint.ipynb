{
 "cells": [
  {
   "cell_type": "code",
   "execution_count": 1,
   "metadata": {},
   "outputs": [],
   "source": [
    "import pandas as pd\n",
    "import numpy as np \n",
    "import matplotlib.pyplot as plt\n",
    "import seaborn as sns"
   ]
  },
  {
   "cell_type": "code",
   "execution_count": 2,
   "metadata": {},
   "outputs": [],
   "source": [
    "df = pd.read_csv(\"fiction_review.csv\")"
   ]
  },
  {
   "cell_type": "code",
   "execution_count": 3,
   "metadata": {},
   "outputs": [
    {
     "data": {
      "text/html": [
       "<div>\n",
       "<style scoped>\n",
       "    .dataframe tbody tr th:only-of-type {\n",
       "        vertical-align: middle;\n",
       "    }\n",
       "\n",
       "    .dataframe tbody tr th {\n",
       "        vertical-align: top;\n",
       "    }\n",
       "\n",
       "    .dataframe thead th {\n",
       "        text-align: right;\n",
       "    }\n",
       "</style>\n",
       "<table border=\"1\" class=\"dataframe\">\n",
       "  <thead>\n",
       "    <tr style=\"text-align: right;\">\n",
       "      <th></th>\n",
       "      <th>Unnamed: 0</th>\n",
       "      <th>book_id</th>\n",
       "      <th>book_url</th>\n",
       "      <th>book_title</th>\n",
       "      <th>author_name</th>\n",
       "      <th>ratings</th>\n",
       "      <th>num_of_ratings</th>\n",
       "      <th>date_published</th>\n",
       "      <th>book_shelved</th>\n",
       "      <th>book_genre</th>\n",
       "      <th>num_likes</th>\n",
       "      <th>rating_num_like</th>\n",
       "      <th>weighted_review_score</th>\n",
       "    </tr>\n",
       "  </thead>\n",
       "  <tbody>\n",
       "    <tr>\n",
       "      <th>0</th>\n",
       "      <td>0</td>\n",
       "      <td>2657</td>\n",
       "      <td>https://www.goodreads.com/book/show/2657.To_Ki...</td>\n",
       "      <td>To Kill a Mockingbird (Paperback)</td>\n",
       "      <td>Harper Lee</td>\n",
       "      <td>4.27</td>\n",
       "      <td>5,025,333</td>\n",
       "      <td>1960</td>\n",
       "      <td>24464</td>\n",
       "      <td>fiction</td>\n",
       "      <td>18426</td>\n",
       "      <td>82260.0</td>\n",
       "      <td>4.464344</td>\n",
       "    </tr>\n",
       "    <tr>\n",
       "      <th>1</th>\n",
       "      <td>1</td>\n",
       "      <td>40961427-1984</td>\n",
       "      <td>https://www.goodreads.com/book/show/40961427-1984</td>\n",
       "      <td>1984 (Kindle Edition)</td>\n",
       "      <td>George Orwell</td>\n",
       "      <td>4.19</td>\n",
       "      <td>3,609,831</td>\n",
       "      <td>1949</td>\n",
       "      <td>24368</td>\n",
       "      <td>fiction</td>\n",
       "      <td>19290</td>\n",
       "      <td>83313.0</td>\n",
       "      <td>4.318974</td>\n",
       "    </tr>\n",
       "    <tr>\n",
       "      <th>2</th>\n",
       "      <td>2</td>\n",
       "      <td>4671</td>\n",
       "      <td>https://www.goodreads.com/book/show/4671.The_G...</td>\n",
       "      <td>The Great Gatsby (Paperback)</td>\n",
       "      <td>F. Scott Fitzgerald</td>\n",
       "      <td>3.93</td>\n",
       "      <td>4,217,051</td>\n",
       "      <td>1925</td>\n",
       "      <td>22232</td>\n",
       "      <td>fiction</td>\n",
       "      <td>14276</td>\n",
       "      <td>54753.0</td>\n",
       "      <td>3.835318</td>\n",
       "    </tr>\n",
       "    <tr>\n",
       "      <th>3</th>\n",
       "      <td>3</td>\n",
       "      <td>170448</td>\n",
       "      <td>https://www.goodreads.com/book/show/170448.Ani...</td>\n",
       "      <td>Animal Farm (Mass Market Paperback)</td>\n",
       "      <td>George Orwell</td>\n",
       "      <td>3.97</td>\n",
       "      <td>3,105,131</td>\n",
       "      <td>1945</td>\n",
       "      <td>20400</td>\n",
       "      <td>fiction</td>\n",
       "      <td>17489</td>\n",
       "      <td>79191.0</td>\n",
       "      <td>4.528046</td>\n",
       "    </tr>\n",
       "    <tr>\n",
       "      <th>4</th>\n",
       "      <td>4</td>\n",
       "      <td>3</td>\n",
       "      <td>https://www.goodreads.com/book/show/3.Harry_Po...</td>\n",
       "      <td>Harry Potter and the Sorcerer's Stone (Harry P...</td>\n",
       "      <td>J.K. Rowling</td>\n",
       "      <td>4.47</td>\n",
       "      <td>8,031,019</td>\n",
       "      <td>1997</td>\n",
       "      <td>20064</td>\n",
       "      <td>fiction</td>\n",
       "      <td>31403</td>\n",
       "      <td>108057.0</td>\n",
       "      <td>3.440977</td>\n",
       "    </tr>\n",
       "  </tbody>\n",
       "</table>\n",
       "</div>"
      ],
      "text/plain": [
       "   Unnamed: 0        book_id  \\\n",
       "0           0           2657   \n",
       "1           1  40961427-1984   \n",
       "2           2           4671   \n",
       "3           3         170448   \n",
       "4           4              3   \n",
       "\n",
       "                                            book_url  \\\n",
       "0  https://www.goodreads.com/book/show/2657.To_Ki...   \n",
       "1  https://www.goodreads.com/book/show/40961427-1984   \n",
       "2  https://www.goodreads.com/book/show/4671.The_G...   \n",
       "3  https://www.goodreads.com/book/show/170448.Ani...   \n",
       "4  https://www.goodreads.com/book/show/3.Harry_Po...   \n",
       "\n",
       "                                          book_title          author_name  \\\n",
       "0                  To Kill a Mockingbird (Paperback)           Harper Lee   \n",
       "1                              1984 (Kindle Edition)        George Orwell   \n",
       "2                       The Great Gatsby (Paperback)  F. Scott Fitzgerald   \n",
       "3                Animal Farm (Mass Market Paperback)        George Orwell   \n",
       "4  Harry Potter and the Sorcerer's Stone (Harry P...         J.K. Rowling   \n",
       "\n",
       "   ratings num_of_ratings  date_published  book_shelved book_genre  num_likes  \\\n",
       "0     4.27      5,025,333            1960         24464    fiction      18426   \n",
       "1     4.19      3,609,831            1949         24368    fiction      19290   \n",
       "2     3.93      4,217,051            1925         22232    fiction      14276   \n",
       "3     3.97      3,105,131            1945         20400    fiction      17489   \n",
       "4     4.47      8,031,019            1997         20064    fiction      31403   \n",
       "\n",
       "   rating_num_like  weighted_review_score  \n",
       "0          82260.0               4.464344  \n",
       "1          83313.0               4.318974  \n",
       "2          54753.0               3.835318  \n",
       "3          79191.0               4.528046  \n",
       "4         108057.0               3.440977  "
      ]
     },
     "execution_count": 3,
     "metadata": {},
     "output_type": "execute_result"
    }
   ],
   "source": [
    "df.head()"
   ]
  },
  {
   "cell_type": "code",
   "execution_count": 5,
   "metadata": {},
   "outputs": [
    {
     "name": "stdout",
     "output_type": "stream",
     "text": [
      "There are a total of 1250 rows and 13 columns in the dataset\n"
     ]
    }
   ],
   "source": [
    "print(f'There are a total of {df.shape[0]} rows and {df.shape[1]} columns in the dataset')"
   ]
  },
  {
   "cell_type": "code",
   "execution_count": 6,
   "metadata": {},
   "outputs": [
    {
     "data": {
      "text/plain": [
       "Unnamed: 0                 int64\n",
       "book_id                   object\n",
       "book_url                  object\n",
       "book_title                object\n",
       "author_name               object\n",
       "ratings                  float64\n",
       "num_of_ratings            object\n",
       "date_published             int64\n",
       "book_shelved               int64\n",
       "book_genre                object\n",
       "num_likes                  int64\n",
       "rating_num_like          float64\n",
       "weighted_review_score    float64\n",
       "dtype: object"
      ]
     },
     "execution_count": 6,
     "metadata": {},
     "output_type": "execute_result"
    }
   ],
   "source": [
    "# The datatypes of each column must either be string, float, int or date\n",
    "df.dtypes"
   ]
  },
  {
   "cell_type": "code",
   "execution_count": 7,
   "metadata": {},
   "outputs": [],
   "source": [
    "df['num_of_ratings'] = df['num_of_ratings'].str.replace(',', '')\n",
    "df['num_of_ratings'] = pd.to_numeric(df['num_of_ratings'])"
   ]
  },
  {
   "cell_type": "code",
   "execution_count": 8,
   "metadata": {},
   "outputs": [
    {
     "data": {
      "text/plain": [
       "Unnamed: 0                 int64\n",
       "book_id                   object\n",
       "book_url                  object\n",
       "book_title                object\n",
       "author_name               object\n",
       "ratings                  float64\n",
       "num_of_ratings             int64\n",
       "date_published             int64\n",
       "book_shelved               int64\n",
       "book_genre                object\n",
       "num_likes                  int64\n",
       "rating_num_like          float64\n",
       "weighted_review_score    float64\n",
       "dtype: object"
      ]
     },
     "execution_count": 8,
     "metadata": {},
     "output_type": "execute_result"
    }
   ],
   "source": [
    "df.dtypes"
   ]
  },
  {
   "cell_type": "code",
   "execution_count": 9,
   "metadata": {},
   "outputs": [
    {
     "data": {
      "text/html": [
       "<div>\n",
       "<style scoped>\n",
       "    .dataframe tbody tr th:only-of-type {\n",
       "        vertical-align: middle;\n",
       "    }\n",
       "\n",
       "    .dataframe tbody tr th {\n",
       "        vertical-align: top;\n",
       "    }\n",
       "\n",
       "    .dataframe thead th {\n",
       "        text-align: right;\n",
       "    }\n",
       "</style>\n",
       "<table border=\"1\" class=\"dataframe\">\n",
       "  <thead>\n",
       "    <tr style=\"text-align: right;\">\n",
       "      <th></th>\n",
       "      <th>book_title</th>\n",
       "      <th>book_shelved</th>\n",
       "    </tr>\n",
       "  </thead>\n",
       "  <tbody>\n",
       "    <tr>\n",
       "      <th>0</th>\n",
       "      <td>To Kill a Mockingbird (Paperback)</td>\n",
       "      <td>24464</td>\n",
       "    </tr>\n",
       "    <tr>\n",
       "      <th>1</th>\n",
       "      <td>1984 (Kindle Edition)</td>\n",
       "      <td>24368</td>\n",
       "    </tr>\n",
       "    <tr>\n",
       "      <th>2</th>\n",
       "      <td>The Great Gatsby (Paperback)</td>\n",
       "      <td>22232</td>\n",
       "    </tr>\n",
       "    <tr>\n",
       "      <th>3</th>\n",
       "      <td>Animal Farm (Mass Market Paperback)</td>\n",
       "      <td>20400</td>\n",
       "    </tr>\n",
       "    <tr>\n",
       "      <th>4</th>\n",
       "      <td>Harry Potter and the Sorcerer's Stone (Harry P...</td>\n",
       "      <td>20064</td>\n",
       "    </tr>\n",
       "  </tbody>\n",
       "</table>\n",
       "</div>"
      ],
      "text/plain": [
       "                                          book_title  book_shelved\n",
       "0                  To Kill a Mockingbird (Paperback)         24464\n",
       "1                              1984 (Kindle Edition)         24368\n",
       "2                       The Great Gatsby (Paperback)         22232\n",
       "3                Animal Farm (Mass Market Paperback)         20400\n",
       "4  Harry Potter and the Sorcerer's Stone (Harry P...         20064"
      ]
     },
     "execution_count": 9,
     "metadata": {},
     "output_type": "execute_result"
    }
   ],
   "source": [
    "# The top five most shelved books are\n",
    "df_sort_book_shelves = df.sort_values(by=['book_shelved'], ascending=False)\n",
    "df_sort_book_shelves[['book_title', 'book_shelved']].head()"
   ]
  },
  {
   "cell_type": "code",
   "execution_count": 10,
   "metadata": {},
   "outputs": [
    {
     "data": {
      "text/html": [
       "<div>\n",
       "<style scoped>\n",
       "    .dataframe tbody tr th:only-of-type {\n",
       "        vertical-align: middle;\n",
       "    }\n",
       "\n",
       "    .dataframe tbody tr th {\n",
       "        vertical-align: top;\n",
       "    }\n",
       "\n",
       "    .dataframe thead th {\n",
       "        text-align: right;\n",
       "    }\n",
       "</style>\n",
       "<table border=\"1\" class=\"dataframe\">\n",
       "  <thead>\n",
       "    <tr style=\"text-align: right;\">\n",
       "      <th></th>\n",
       "      <th>book_title</th>\n",
       "      <th>book_shelved</th>\n",
       "    </tr>\n",
       "  </thead>\n",
       "  <tbody>\n",
       "    <tr>\n",
       "      <th>1249</th>\n",
       "      <td>Inheritance (The Inheritance Cycle, #4)</td>\n",
       "      <td>1238</td>\n",
       "    </tr>\n",
       "    <tr>\n",
       "      <th>1248</th>\n",
       "      <td>The Prophet (Paperback)</td>\n",
       "      <td>1240</td>\n",
       "    </tr>\n",
       "    <tr>\n",
       "      <th>1247</th>\n",
       "      <td>Night Shift (Paperback)</td>\n",
       "      <td>1240</td>\n",
       "    </tr>\n",
       "    <tr>\n",
       "      <th>1244</th>\n",
       "      <td>Every Heart a Doorway (Wayward Children #1)</td>\n",
       "      <td>1241</td>\n",
       "    </tr>\n",
       "    <tr>\n",
       "      <th>1246</th>\n",
       "      <td>The Yellow Wallpaper and Other Stories (Paperb...</td>\n",
       "      <td>1241</td>\n",
       "    </tr>\n",
       "  </tbody>\n",
       "</table>\n",
       "</div>"
      ],
      "text/plain": [
       "                                             book_title  book_shelved\n",
       "1249            Inheritance (The Inheritance Cycle, #4)          1238\n",
       "1248                            The Prophet (Paperback)          1240\n",
       "1247                            Night Shift (Paperback)          1240\n",
       "1244        Every Heart a Doorway (Wayward Children #1)          1241\n",
       "1246  The Yellow Wallpaper and Other Stories (Paperb...          1241"
      ]
     },
     "execution_count": 10,
     "metadata": {},
     "output_type": "execute_result"
    }
   ],
   "source": [
    "# The top five least shelved books are\n",
    "df_sort_book_shelves = df.sort_values(by=['book_shelved'], ascending=True)\n",
    "df_sort_book_shelves[['book_title', 'book_shelved']].head()"
   ]
  },
  {
   "cell_type": "code",
   "execution_count": 11,
   "metadata": {},
   "outputs": [
    {
     "data": {
      "text/html": [
       "<div>\n",
       "<style scoped>\n",
       "    .dataframe tbody tr th:only-of-type {\n",
       "        vertical-align: middle;\n",
       "    }\n",
       "\n",
       "    .dataframe tbody tr th {\n",
       "        vertical-align: top;\n",
       "    }\n",
       "\n",
       "    .dataframe thead th {\n",
       "        text-align: right;\n",
       "    }\n",
       "</style>\n",
       "<table border=\"1\" class=\"dataframe\">\n",
       "  <thead>\n",
       "    <tr style=\"text-align: right;\">\n",
       "      <th></th>\n",
       "      <th>book_title</th>\n",
       "      <th>ratings</th>\n",
       "    </tr>\n",
       "  </thead>\n",
       "  <tbody>\n",
       "    <tr>\n",
       "      <th>19</th>\n",
       "      <td>Harry Potter and the Deathly Hallows (Harry Po...</td>\n",
       "      <td>4.61</td>\n",
       "    </tr>\n",
       "    <tr>\n",
       "      <th>625</th>\n",
       "      <td>The Way of Kings (The Stormlight Archive, #1)</td>\n",
       "      <td>4.60</td>\n",
       "    </tr>\n",
       "    <tr>\n",
       "      <th>1013</th>\n",
       "      <td>Crooked Kingdom (Six of Crows, #2)</td>\n",
       "      <td>4.59</td>\n",
       "    </tr>\n",
       "    <tr>\n",
       "      <th>1219</th>\n",
       "      <td>A Court of Mist and Fury (A Court of Thorns an...</td>\n",
       "      <td>4.59</td>\n",
       "    </tr>\n",
       "    <tr>\n",
       "      <th>166</th>\n",
       "      <td>The Nightingale (Hardcover)</td>\n",
       "      <td>4.57</td>\n",
       "    </tr>\n",
       "  </tbody>\n",
       "</table>\n",
       "</div>"
      ],
      "text/plain": [
       "                                             book_title  ratings\n",
       "19    Harry Potter and the Deathly Hallows (Harry Po...     4.61\n",
       "625       The Way of Kings (The Stormlight Archive, #1)     4.60\n",
       "1013                 Crooked Kingdom (Six of Crows, #2)     4.59\n",
       "1219  A Court of Mist and Fury (A Court of Thorns an...     4.59\n",
       "166                         The Nightingale (Hardcover)     4.57"
      ]
     },
     "execution_count": 11,
     "metadata": {},
     "output_type": "execute_result"
    }
   ],
   "source": [
    "# The top five highest rated books are\n",
    "df_sort_book_shelves = df.sort_values(by=['ratings'], ascending=False)\n",
    "df_sort_book_shelves[['book_title', 'ratings']].head()"
   ]
  },
  {
   "cell_type": "code",
   "execution_count": 12,
   "metadata": {},
   "outputs": [
    {
     "data": {
      "text/html": [
       "<div>\n",
       "<style scoped>\n",
       "    .dataframe tbody tr th:only-of-type {\n",
       "        vertical-align: middle;\n",
       "    }\n",
       "\n",
       "    .dataframe tbody tr th {\n",
       "        vertical-align: top;\n",
       "    }\n",
       "\n",
       "    .dataframe thead th {\n",
       "        text-align: right;\n",
       "    }\n",
       "</style>\n",
       "<table border=\"1\" class=\"dataframe\">\n",
       "  <thead>\n",
       "    <tr style=\"text-align: right;\">\n",
       "      <th></th>\n",
       "      <th>book_title</th>\n",
       "      <th>ratings</th>\n",
       "    </tr>\n",
       "  </thead>\n",
       "  <tbody>\n",
       "    <tr>\n",
       "      <th>1060</th>\n",
       "      <td>The Jane Austen Book Club (Paperback)</td>\n",
       "      <td>3.12</td>\n",
       "    </tr>\n",
       "    <tr>\n",
       "      <th>1036</th>\n",
       "      <td>The Mermaid Chair (Paperback)</td>\n",
       "      <td>3.19</td>\n",
       "    </tr>\n",
       "    <tr>\n",
       "      <th>1164</th>\n",
       "      <td>How to Be Good (Paperback)</td>\n",
       "      <td>3.23</td>\n",
       "    </tr>\n",
       "    <tr>\n",
       "      <th>1006</th>\n",
       "      <td>Leave the World Behind (Hardcover)</td>\n",
       "      <td>3.23</td>\n",
       "    </tr>\n",
       "    <tr>\n",
       "      <th>867</th>\n",
       "      <td>The Particular Sadness of Lemon Cake (Hardcover)</td>\n",
       "      <td>3.24</td>\n",
       "    </tr>\n",
       "  </tbody>\n",
       "</table>\n",
       "</div>"
      ],
      "text/plain": [
       "                                            book_title  ratings\n",
       "1060             The Jane Austen Book Club (Paperback)     3.12\n",
       "1036                     The Mermaid Chair (Paperback)     3.19\n",
       "1164                        How to Be Good (Paperback)     3.23\n",
       "1006                Leave the World Behind (Hardcover)     3.23\n",
       "867   The Particular Sadness of Lemon Cake (Hardcover)     3.24"
      ]
     },
     "execution_count": 12,
     "metadata": {},
     "output_type": "execute_result"
    }
   ],
   "source": [
    "# The top five lowest rated books are\n",
    "df_sort_book_shelves = df.sort_values(by=['ratings'], ascending=True)\n",
    "df_sort_book_shelves[['book_title', 'ratings']].head()"
   ]
  },
  {
   "cell_type": "code",
   "execution_count": 13,
   "metadata": {},
   "outputs": [
    {
     "data": {
      "text/html": [
       "<div>\n",
       "<style scoped>\n",
       "    .dataframe tbody tr th:only-of-type {\n",
       "        vertical-align: middle;\n",
       "    }\n",
       "\n",
       "    .dataframe tbody tr th {\n",
       "        vertical-align: top;\n",
       "    }\n",
       "\n",
       "    .dataframe thead th {\n",
       "        text-align: right;\n",
       "    }\n",
       "</style>\n",
       "<table border=\"1\" class=\"dataframe\">\n",
       "  <thead>\n",
       "    <tr style=\"text-align: right;\">\n",
       "      <th></th>\n",
       "      <th>book_title</th>\n",
       "      <th>num_of_ratings</th>\n",
       "    </tr>\n",
       "  </thead>\n",
       "  <tbody>\n",
       "    <tr>\n",
       "      <th>4</th>\n",
       "      <td>Harry Potter and the Sorcerer's Stone (Harry P...</td>\n",
       "      <td>8031019</td>\n",
       "    </tr>\n",
       "    <tr>\n",
       "      <th>6</th>\n",
       "      <td>The Hunger Games (The Hunger Games, #1)</td>\n",
       "      <td>7056494</td>\n",
       "    </tr>\n",
       "    <tr>\n",
       "      <th>73</th>\n",
       "      <td>Twilight (The Twilight Saga, #1)</td>\n",
       "      <td>5491278</td>\n",
       "    </tr>\n",
       "    <tr>\n",
       "      <th>0</th>\n",
       "      <td>To Kill a Mockingbird (Paperback)</td>\n",
       "      <td>5025333</td>\n",
       "    </tr>\n",
       "    <tr>\n",
       "      <th>2</th>\n",
       "      <td>The Great Gatsby (Paperback)</td>\n",
       "      <td>4217051</td>\n",
       "    </tr>\n",
       "  </tbody>\n",
       "</table>\n",
       "</div>"
      ],
      "text/plain": [
       "                                           book_title  num_of_ratings\n",
       "4   Harry Potter and the Sorcerer's Stone (Harry P...         8031019\n",
       "6             The Hunger Games (The Hunger Games, #1)         7056494\n",
       "73                   Twilight (The Twilight Saga, #1)         5491278\n",
       "0                   To Kill a Mockingbird (Paperback)         5025333\n",
       "2                        The Great Gatsby (Paperback)         4217051"
      ]
     },
     "execution_count": 13,
     "metadata": {},
     "output_type": "execute_result"
    }
   ],
   "source": [
    "# The top five books with highest number of ratings\n",
    "df_sort_book_shelves = df.sort_values(by=['num_of_ratings'], ascending=False)\n",
    "df_sort_book_shelves[['book_title', 'num_of_ratings']].head()"
   ]
  },
  {
   "cell_type": "code",
   "execution_count": 14,
   "metadata": {},
   "outputs": [
    {
     "data": {
      "text/html": [
       "<div>\n",
       "<style scoped>\n",
       "    .dataframe tbody tr th:only-of-type {\n",
       "        vertical-align: middle;\n",
       "    }\n",
       "\n",
       "    .dataframe tbody tr th {\n",
       "        vertical-align: top;\n",
       "    }\n",
       "\n",
       "    .dataframe thead th {\n",
       "        text-align: right;\n",
       "    }\n",
       "</style>\n",
       "<table border=\"1\" class=\"dataframe\">\n",
       "  <thead>\n",
       "    <tr style=\"text-align: right;\">\n",
       "      <th></th>\n",
       "      <th>book_title</th>\n",
       "      <th>num_of_ratings</th>\n",
       "    </tr>\n",
       "  </thead>\n",
       "  <tbody>\n",
       "    <tr>\n",
       "      <th>1136</th>\n",
       "      <td>العصبي (Paperback)</td>\n",
       "      <td>2268</td>\n",
       "    </tr>\n",
       "    <tr>\n",
       "      <th>1065</th>\n",
       "      <td>انتحار فاشل (Paperback)</td>\n",
       "      <td>2627</td>\n",
       "    </tr>\n",
       "    <tr>\n",
       "      <th>1240</th>\n",
       "      <td>Silence (Paperback)</td>\n",
       "      <td>28192</td>\n",
       "    </tr>\n",
       "    <tr>\n",
       "      <th>1231</th>\n",
       "      <td>Underworld (Paperback)</td>\n",
       "      <td>28254</td>\n",
       "    </tr>\n",
       "    <tr>\n",
       "      <th>1197</th>\n",
       "      <td>Labyrinths: Selected Stories &amp; Other Writings ...</td>\n",
       "      <td>28958</td>\n",
       "    </tr>\n",
       "  </tbody>\n",
       "</table>\n",
       "</div>"
      ],
      "text/plain": [
       "                                             book_title  num_of_ratings\n",
       "1136                                 العصبي (Paperback)            2268\n",
       "1065                            انتحار فاشل (Paperback)            2627\n",
       "1240                                Silence (Paperback)           28192\n",
       "1231                             Underworld (Paperback)           28254\n",
       "1197  Labyrinths: Selected Stories & Other Writings ...           28958"
      ]
     },
     "execution_count": 14,
     "metadata": {},
     "output_type": "execute_result"
    }
   ],
   "source": [
    "# The top five books with lowest number of ratings\n",
    "df_sort_book_shelves = df.sort_values(by=['num_of_ratings'], ascending=True)\n",
    "df_sort_book_shelves[['book_title', 'num_of_ratings']].head()"
   ]
  },
  {
   "cell_type": "code",
   "execution_count": 15,
   "metadata": {},
   "outputs": [
    {
     "data": {
      "text/html": [
       "<div>\n",
       "<style scoped>\n",
       "    .dataframe tbody tr th:only-of-type {\n",
       "        vertical-align: middle;\n",
       "    }\n",
       "\n",
       "    .dataframe tbody tr th {\n",
       "        vertical-align: top;\n",
       "    }\n",
       "\n",
       "    .dataframe thead th {\n",
       "        text-align: right;\n",
       "    }\n",
       "</style>\n",
       "<table border=\"1\" class=\"dataframe\">\n",
       "  <thead>\n",
       "    <tr style=\"text-align: right;\">\n",
       "      <th></th>\n",
       "      <th>book_title</th>\n",
       "      <th>date_published</th>\n",
       "    </tr>\n",
       "  </thead>\n",
       "  <tbody>\n",
       "    <tr>\n",
       "      <th>798</th>\n",
       "      <td>The Four Winds (Hardcover)</td>\n",
       "      <td>2021</td>\n",
       "    </tr>\n",
       "    <tr>\n",
       "      <th>1071</th>\n",
       "      <td>The Lost Apothecary (Hardcover)</td>\n",
       "      <td>2021</td>\n",
       "    </tr>\n",
       "    <tr>\n",
       "      <th>1181</th>\n",
       "      <td>People We Meet on Vacation (Paperback)</td>\n",
       "      <td>2021</td>\n",
       "    </tr>\n",
       "    <tr>\n",
       "      <th>646</th>\n",
       "      <td>Malibu Rising (Hardcover)</td>\n",
       "      <td>2021</td>\n",
       "    </tr>\n",
       "    <tr>\n",
       "      <th>714</th>\n",
       "      <td>Project Hail Mary (Hardcover)</td>\n",
       "      <td>2021</td>\n",
       "    </tr>\n",
       "  </tbody>\n",
       "</table>\n",
       "</div>"
      ],
      "text/plain": [
       "                                  book_title  date_published\n",
       "798               The Four Winds (Hardcover)            2021\n",
       "1071         The Lost Apothecary (Hardcover)            2021\n",
       "1181  People We Meet on Vacation (Paperback)            2021\n",
       "646                Malibu Rising (Hardcover)            2021\n",
       "714            Project Hail Mary (Hardcover)            2021"
      ]
     },
     "execution_count": 15,
     "metadata": {},
     "output_type": "execute_result"
    }
   ],
   "source": [
    "# The top five newest books in the dataset\n",
    "df_sort_book_shelves = df.sort_values(by=['date_published'], ascending=False)\n",
    "df_sort_book_shelves[['book_title', 'date_published']].head()"
   ]
  },
  {
   "cell_type": "code",
   "execution_count": 16,
   "metadata": {},
   "outputs": [
    {
     "data": {
      "text/html": [
       "<div>\n",
       "<style scoped>\n",
       "    .dataframe tbody tr th:only-of-type {\n",
       "        vertical-align: middle;\n",
       "    }\n",
       "\n",
       "    .dataframe tbody tr th {\n",
       "        vertical-align: top;\n",
       "    }\n",
       "\n",
       "    .dataframe thead th {\n",
       "        text-align: right;\n",
       "    }\n",
       "</style>\n",
       "<table border=\"1\" class=\"dataframe\">\n",
       "  <thead>\n",
       "    <tr style=\"text-align: right;\">\n",
       "      <th></th>\n",
       "      <th>book_title</th>\n",
       "      <th>date_published</th>\n",
       "    </tr>\n",
       "  </thead>\n",
       "  <tbody>\n",
       "    <tr>\n",
       "      <th>1220</th>\n",
       "      <td>The Epic of Gilgamesh (Paperback)</td>\n",
       "      <td>-1800</td>\n",
       "    </tr>\n",
       "    <tr>\n",
       "      <th>148</th>\n",
       "      <td>The Odyssey (Paperback)</td>\n",
       "      <td>-800</td>\n",
       "    </tr>\n",
       "    <tr>\n",
       "      <th>343</th>\n",
       "      <td>The Iliad (Paperback)</td>\n",
       "      <td>-800</td>\n",
       "    </tr>\n",
       "    <tr>\n",
       "      <th>1154</th>\n",
       "      <td>Aesop's Fables (Paperback)</td>\n",
       "      <td>-560</td>\n",
       "    </tr>\n",
       "    <tr>\n",
       "      <th>506</th>\n",
       "      <td>Beowulf (Paperback)</td>\n",
       "      <td>900</td>\n",
       "    </tr>\n",
       "  </tbody>\n",
       "</table>\n",
       "</div>"
      ],
      "text/plain": [
       "                             book_title  date_published\n",
       "1220  The Epic of Gilgamesh (Paperback)           -1800\n",
       "148             The Odyssey (Paperback)            -800\n",
       "343               The Iliad (Paperback)            -800\n",
       "1154         Aesop's Fables (Paperback)            -560\n",
       "506                 Beowulf (Paperback)             900"
      ]
     },
     "execution_count": 16,
     "metadata": {},
     "output_type": "execute_result"
    }
   ],
   "source": [
    "# The top five oldest books in the dataset\n",
    "df_sort_book_shelves = df.sort_values(by=['date_published'], ascending=True)\n",
    "df_sort_book_shelves[['book_title', 'date_published']].head()"
   ]
  },
  {
   "cell_type": "code",
   "execution_count": 17,
   "metadata": {},
   "outputs": [
    {
     "data": {
      "text/plain": [
       "Index(['Unnamed: 0', 'book_id', 'book_url', 'book_title', 'author_name',\n",
       "       'ratings', 'num_of_ratings', 'date_published', 'book_shelved',\n",
       "       'book_genre', 'num_likes', 'rating_num_like', 'weighted_review_score'],\n",
       "      dtype='object')"
      ]
     },
     "execution_count": 17,
     "metadata": {},
     "output_type": "execute_result"
    }
   ],
   "source": [
    "df.columns"
   ]
  },
  {
   "cell_type": "code",
   "execution_count": 18,
   "metadata": {
    "scrolled": true
   },
   "outputs": [
    {
     "data": {
      "text/html": [
       "<div>\n",
       "<style scoped>\n",
       "    .dataframe tbody tr th:only-of-type {\n",
       "        vertical-align: middle;\n",
       "    }\n",
       "\n",
       "    .dataframe tbody tr th {\n",
       "        vertical-align: top;\n",
       "    }\n",
       "\n",
       "    .dataframe thead th {\n",
       "        text-align: right;\n",
       "    }\n",
       "</style>\n",
       "<table border=\"1\" class=\"dataframe\">\n",
       "  <thead>\n",
       "    <tr style=\"text-align: right;\">\n",
       "      <th></th>\n",
       "      <th>book_title</th>\n",
       "      <th>weighted_review_score</th>\n",
       "    </tr>\n",
       "  </thead>\n",
       "  <tbody>\n",
       "    <tr>\n",
       "      <th>519</th>\n",
       "      <td>Lonesome Dove (Lonesome Dove #1)</td>\n",
       "      <td>4.927034</td>\n",
       "    </tr>\n",
       "    <tr>\n",
       "      <th>613</th>\n",
       "      <td>Six of Crows (Six of Crows, #1)</td>\n",
       "      <td>4.880118</td>\n",
       "    </tr>\n",
       "    <tr>\n",
       "      <th>1136</th>\n",
       "      <td>العصبي (Paperback)</td>\n",
       "      <td>4.856564</td>\n",
       "    </tr>\n",
       "    <tr>\n",
       "      <th>156</th>\n",
       "      <td>A Storm of Swords (A Song of Ice and Fire, #3)</td>\n",
       "      <td>4.820508</td>\n",
       "    </tr>\n",
       "    <tr>\n",
       "      <th>152</th>\n",
       "      <td>The Remains of the Day (Paperback)</td>\n",
       "      <td>4.810021</td>\n",
       "    </tr>\n",
       "  </tbody>\n",
       "</table>\n",
       "</div>"
      ],
      "text/plain": [
       "                                          book_title  weighted_review_score\n",
       "519                 Lonesome Dove (Lonesome Dove #1)               4.927034\n",
       "613                  Six of Crows (Six of Crows, #1)               4.880118\n",
       "1136                              العصبي (Paperback)               4.856564\n",
       "156   A Storm of Swords (A Song of Ice and Fire, #3)               4.820508\n",
       "152               The Remains of the Day (Paperback)               4.810021"
      ]
     },
     "execution_count": 18,
     "metadata": {},
     "output_type": "execute_result"
    }
   ],
   "source": [
    "# The top five books with highest weighted review score\n",
    "df_sort_weighted_review_score = df.sort_values(by=['weighted_review_score'], ascending=False)\n",
    "df_sort_weighted_review_score[['book_title', 'weighted_review_score']].head()"
   ]
  },
  {
   "cell_type": "code",
   "execution_count": 19,
   "metadata": {},
   "outputs": [
    {
     "data": {
      "text/html": [
       "<div>\n",
       "<style scoped>\n",
       "    .dataframe tbody tr th:only-of-type {\n",
       "        vertical-align: middle;\n",
       "    }\n",
       "\n",
       "    .dataframe tbody tr th {\n",
       "        vertical-align: top;\n",
       "    }\n",
       "\n",
       "    .dataframe thead th {\n",
       "        text-align: right;\n",
       "    }\n",
       "</style>\n",
       "<table border=\"1\" class=\"dataframe\">\n",
       "  <thead>\n",
       "    <tr style=\"text-align: right;\">\n",
       "      <th></th>\n",
       "      <th>book_title</th>\n",
       "      <th>weighted_review_score</th>\n",
       "    </tr>\n",
       "  </thead>\n",
       "  <tbody>\n",
       "    <tr>\n",
       "      <th>266</th>\n",
       "      <td>Fifty Shades of Grey (Fifty Shades, #1)</td>\n",
       "      <td>1.304299</td>\n",
       "    </tr>\n",
       "    <tr>\n",
       "      <th>800</th>\n",
       "      <td>The Ballad of Songbirds and Snakes (The Hunger...</td>\n",
       "      <td>1.566251</td>\n",
       "    </tr>\n",
       "    <tr>\n",
       "      <th>191</th>\n",
       "      <td>Breaking Dawn (The Twilight Saga, #4)</td>\n",
       "      <td>1.751998</td>\n",
       "    </tr>\n",
       "    <tr>\n",
       "      <th>636</th>\n",
       "      <td>Fifty Shades Darker (Fifty Shades, #2)</td>\n",
       "      <td>1.813241</td>\n",
       "    </tr>\n",
       "    <tr>\n",
       "      <th>73</th>\n",
       "      <td>Twilight (The Twilight Saga, #1)</td>\n",
       "      <td>1.829702</td>\n",
       "    </tr>\n",
       "  </tbody>\n",
       "</table>\n",
       "</div>"
      ],
      "text/plain": [
       "                                            book_title  weighted_review_score\n",
       "266            Fifty Shades of Grey (Fifty Shades, #1)               1.304299\n",
       "800  The Ballad of Songbirds and Snakes (The Hunger...               1.566251\n",
       "191              Breaking Dawn (The Twilight Saga, #4)               1.751998\n",
       "636             Fifty Shades Darker (Fifty Shades, #2)               1.813241\n",
       "73                    Twilight (The Twilight Saga, #1)               1.829702"
      ]
     },
     "execution_count": 19,
     "metadata": {},
     "output_type": "execute_result"
    }
   ],
   "source": [
    "# The top five books with lowest weighted review score\n",
    "df_sort_weighted_review_score = df.sort_values(by=['weighted_review_score'], ascending=True)\n",
    "df_sort_weighted_review_score[['book_title', 'weighted_review_score']].head()"
   ]
  },
  {
   "cell_type": "code",
   "execution_count": 20,
   "metadata": {},
   "outputs": [
    {
     "data": {
      "image/png": "[encoded data removed]",
      "text/plain": [
       "<Figure size 432x288 with 1 Axes>"
      ]
     },
     "metadata": {
      "needs_background": "light"
     },
     "output_type": "display_data"
    }
   ],
   "source": [
    "# Histogram of the ratings column\n",
    "sns.histplot(data=df, x=\"ratings\")\n",
    "plt.show()"
   ]
  },
  {
   "cell_type": "code",
   "execution_count": 21,
   "metadata": {},
   "outputs": [
    {
     "data": {
      "image/png": "[encoded data removed]",
      "text/plain": [
       "<Figure size 432x288 with 1 Axes>"
      ]
     },
     "metadata": {
      "needs_background": "light"
     },
     "output_type": "display_data"
    }
   ],
   "source": [
    "# Histogram of the number of ratings column\n",
    "sns.histplot(data=df, x=\"num_of_ratings\")\n",
    "plt.show()"
   ]
  },
  {
   "cell_type": "code",
   "execution_count": 22,
   "metadata": {},
   "outputs": [
    {
     "data": {
      "image/png": "[encoded data removed]",
      "text/plain": [
       "<Figure size 432x288 with 1 Axes>"
      ]
     },
     "metadata": {
      "needs_background": "light"
     },
     "output_type": "display_data"
    }
   ],
   "source": [
    "# Histogram of the number of likes column\n",
    "sns.histplot(data=df, x=\"num_likes\")\n",
    "plt.show()"
   ]
  },
  {
   "cell_type": "code",
   "execution_count": 23,
   "metadata": {},
   "outputs": [
    {
     "data": {
      "image/png": "[encoded data removed]",
      "text/plain": [
       "<Figure size 432x288 with 1 Axes>"
      ]
     },
     "metadata": {
      "needs_background": "light"
     },
     "output_type": "display_data"
    }
   ],
   "source": [
    "# Histogram of the weighted review score\n",
    "sns.histplot(data=df, x=\"weighted_review_score\")\n",
    "plt.show()"
   ]
  },
  {
   "cell_type": "code",
   "execution_count": 24,
   "metadata": {},
   "outputs": [
    {
     "data": {
      "text/html": [
       "<div>\n",
       "<style scoped>\n",
       "    .dataframe tbody tr th:only-of-type {\n",
       "        vertical-align: middle;\n",
       "    }\n",
       "\n",
       "    .dataframe tbody tr th {\n",
       "        vertical-align: top;\n",
       "    }\n",
       "\n",
       "    .dataframe thead th {\n",
       "        text-align: right;\n",
       "    }\n",
       "</style>\n",
       "<table border=\"1\" class=\"dataframe\">\n",
       "  <thead>\n",
       "    <tr style=\"text-align: right;\">\n",
       "      <th></th>\n",
       "      <th>Unnamed: 0</th>\n",
       "      <th>book_id</th>\n",
       "      <th>book_url</th>\n",
       "      <th>book_title</th>\n",
       "      <th>author_name</th>\n",
       "      <th>ratings</th>\n",
       "      <th>num_of_ratings</th>\n",
       "      <th>date_published</th>\n",
       "      <th>book_shelved</th>\n",
       "      <th>book_genre</th>\n",
       "      <th>num_likes</th>\n",
       "      <th>rating_num_like</th>\n",
       "      <th>weighted_review_score</th>\n",
       "    </tr>\n",
       "  </thead>\n",
       "  <tbody>\n",
       "    <tr>\n",
       "      <th>0</th>\n",
       "      <td>0</td>\n",
       "      <td>2657</td>\n",
       "      <td>https://www.goodreads.com/book/show/2657.To_Ki...</td>\n",
       "      <td>To Kill a Mockingbird (Paperback)</td>\n",
       "      <td>Harper Lee</td>\n",
       "      <td>4.27</td>\n",
       "      <td>5025333</td>\n",
       "      <td>1960</td>\n",
       "      <td>24464</td>\n",
       "      <td>fiction</td>\n",
       "      <td>18426</td>\n",
       "      <td>82260.0</td>\n",
       "      <td>4.464344</td>\n",
       "    </tr>\n",
       "    <tr>\n",
       "      <th>1</th>\n",
       "      <td>1</td>\n",
       "      <td>40961427-1984</td>\n",
       "      <td>https://www.goodreads.com/book/show/40961427-1984</td>\n",
       "      <td>1984 (Kindle Edition)</td>\n",
       "      <td>George Orwell</td>\n",
       "      <td>4.19</td>\n",
       "      <td>3609831</td>\n",
       "      <td>1949</td>\n",
       "      <td>24368</td>\n",
       "      <td>fiction</td>\n",
       "      <td>19290</td>\n",
       "      <td>83313.0</td>\n",
       "      <td>4.318974</td>\n",
       "    </tr>\n",
       "    <tr>\n",
       "      <th>2</th>\n",
       "      <td>2</td>\n",
       "      <td>4671</td>\n",
       "      <td>https://www.goodreads.com/book/show/4671.The_G...</td>\n",
       "      <td>The Great Gatsby (Paperback)</td>\n",
       "      <td>F. Scott Fitzgerald</td>\n",
       "      <td>3.93</td>\n",
       "      <td>4217051</td>\n",
       "      <td>1925</td>\n",
       "      <td>22232</td>\n",
       "      <td>fiction</td>\n",
       "      <td>14276</td>\n",
       "      <td>54753.0</td>\n",
       "      <td>3.835318</td>\n",
       "    </tr>\n",
       "    <tr>\n",
       "      <th>3</th>\n",
       "      <td>3</td>\n",
       "      <td>170448</td>\n",
       "      <td>https://www.goodreads.com/book/show/170448.Ani...</td>\n",
       "      <td>Animal Farm (Mass Market Paperback)</td>\n",
       "      <td>George Orwell</td>\n",
       "      <td>3.97</td>\n",
       "      <td>3105131</td>\n",
       "      <td>1945</td>\n",
       "      <td>20400</td>\n",
       "      <td>fiction</td>\n",
       "      <td>17489</td>\n",
       "      <td>79191.0</td>\n",
       "      <td>4.528046</td>\n",
       "    </tr>\n",
       "    <tr>\n",
       "      <th>4</th>\n",
       "      <td>4</td>\n",
       "      <td>3</td>\n",
       "      <td>https://www.goodreads.com/book/show/3.Harry_Po...</td>\n",
       "      <td>Harry Potter and the Sorcerer's Stone (Harry P...</td>\n",
       "      <td>J.K. Rowling</td>\n",
       "      <td>4.47</td>\n",
       "      <td>8031019</td>\n",
       "      <td>1997</td>\n",
       "      <td>20064</td>\n",
       "      <td>fiction</td>\n",
       "      <td>31403</td>\n",
       "      <td>108057.0</td>\n",
       "      <td>3.440977</td>\n",
       "    </tr>\n",
       "  </tbody>\n",
       "</table>\n",
       "</div>"
      ],
      "text/plain": [
       "   Unnamed: 0        book_id  \\\n",
       "0           0           2657   \n",
       "1           1  40961427-1984   \n",
       "2           2           4671   \n",
       "3           3         170448   \n",
       "4           4              3   \n",
       "\n",
       "                                            book_url  \\\n",
       "0  https://www.goodreads.com/book/show/2657.To_Ki...   \n",
       "1  https://www.goodreads.com/book/show/40961427-1984   \n",
       "2  https://www.goodreads.com/book/show/4671.The_G...   \n",
       "3  https://www.goodreads.com/book/show/170448.Ani...   \n",
       "4  https://www.goodreads.com/book/show/3.Harry_Po...   \n",
       "\n",
       "                                          book_title          author_name  \\\n",
       "0                  To Kill a Mockingbird (Paperback)           Harper Lee   \n",
       "1                              1984 (Kindle Edition)        George Orwell   \n",
       "2                       The Great Gatsby (Paperback)  F. Scott Fitzgerald   \n",
       "3                Animal Farm (Mass Market Paperback)        George Orwell   \n",
       "4  Harry Potter and the Sorcerer's Stone (Harry P...         J.K. Rowling   \n",
       "\n",
       "   ratings  num_of_ratings  date_published  book_shelved book_genre  \\\n",
       "0     4.27         5025333            1960         24464    fiction   \n",
       "1     4.19         3609831            1949         24368    fiction   \n",
       "2     3.93         4217051            1925         22232    fiction   \n",
       "3     3.97         3105131            1945         20400    fiction   \n",
       "4     4.47         8031019            1997         20064    fiction   \n",
       "\n",
       "   num_likes  rating_num_like  weighted_review_score  \n",
       "0      18426          82260.0               4.464344  \n",
       "1      19290          83313.0               4.318974  \n",
       "2      14276          54753.0               3.835318  \n",
       "3      17489          79191.0               4.528046  \n",
       "4      31403         108057.0               3.440977  "
      ]
     },
     "execution_count": 24,
     "metadata": {},
     "output_type": "execute_result"
    }
   ],
   "source": [
    "df.head()"
   ]
  },
  {
   "cell_type": "code",
   "execution_count": 25,
   "metadata": {},
   "outputs": [
    {
     "data": {
      "text/html": [
       "<div>\n",
       "<style scoped>\n",
       "    .dataframe tbody tr th:only-of-type {\n",
       "        vertical-align: middle;\n",
       "    }\n",
       "\n",
       "    .dataframe tbody tr th {\n",
       "        vertical-align: top;\n",
       "    }\n",
       "\n",
       "    .dataframe thead th {\n",
       "        text-align: right;\n",
       "    }\n",
       "</style>\n",
       "<table border=\"1\" class=\"dataframe\">\n",
       "  <thead>\n",
       "    <tr style=\"text-align: right;\">\n",
       "      <th></th>\n",
       "      <th>ratings</th>\n",
       "      <th>num_of_ratings</th>\n",
       "      <th>date_published</th>\n",
       "      <th>book_shelved</th>\n",
       "      <th>num_likes</th>\n",
       "      <th>weighted_review_score</th>\n",
       "    </tr>\n",
       "  </thead>\n",
       "  <tbody>\n",
       "    <tr>\n",
       "      <th>ratings</th>\n",
       "      <td>1.000000</td>\n",
       "      <td>0.217726</td>\n",
       "      <td>0.071185</td>\n",
       "      <td>0.189177</td>\n",
       "      <td>0.264257</td>\n",
       "      <td>0.489016</td>\n",
       "    </tr>\n",
       "    <tr>\n",
       "      <th>num_of_ratings</th>\n",
       "      <td>0.217726</td>\n",
       "      <td>1.000000</td>\n",
       "      <td>-0.001369</td>\n",
       "      <td>0.816445</td>\n",
       "      <td>0.466507</td>\n",
       "      <td>-0.093666</td>\n",
       "    </tr>\n",
       "    <tr>\n",
       "      <th>date_published</th>\n",
       "      <td>0.071185</td>\n",
       "      <td>-0.001369</td>\n",
       "      <td>1.000000</td>\n",
       "      <td>-0.014410</td>\n",
       "      <td>0.078007</td>\n",
       "      <td>-0.108571</td>\n",
       "    </tr>\n",
       "    <tr>\n",
       "      <th>book_shelved</th>\n",
       "      <td>0.189177</td>\n",
       "      <td>0.816445</td>\n",
       "      <td>-0.014410</td>\n",
       "      <td>1.000000</td>\n",
       "      <td>0.458137</td>\n",
       "      <td>0.015403</td>\n",
       "    </tr>\n",
       "    <tr>\n",
       "      <th>num_likes</th>\n",
       "      <td>0.264257</td>\n",
       "      <td>0.466507</td>\n",
       "      <td>0.078007</td>\n",
       "      <td>0.458137</td>\n",
       "      <td>1.000000</td>\n",
       "      <td>-0.076940</td>\n",
       "    </tr>\n",
       "    <tr>\n",
       "      <th>weighted_review_score</th>\n",
       "      <td>0.489016</td>\n",
       "      <td>-0.093666</td>\n",
       "      <td>-0.108571</td>\n",
       "      <td>0.015403</td>\n",
       "      <td>-0.076940</td>\n",
       "      <td>1.000000</td>\n",
       "    </tr>\n",
       "  </tbody>\n",
       "</table>\n",
       "</div>"
      ],
      "text/plain": [
       "                        ratings  num_of_ratings  date_published  book_shelved  \\\n",
       "ratings                1.000000        0.217726        0.071185      0.189177   \n",
       "num_of_ratings         0.217726        1.000000       -0.001369      0.816445   \n",
       "date_published         0.071185       -0.001369        1.000000     -0.014410   \n",
       "book_shelved           0.189177        0.816445       -0.014410      1.000000   \n",
       "num_likes              0.264257        0.466507        0.078007      0.458137   \n",
       "weighted_review_score  0.489016       -0.093666       -0.108571      0.015403   \n",
       "\n",
       "                       num_likes  weighted_review_score  \n",
       "ratings                 0.264257               0.489016  \n",
       "num_of_ratings          0.466507              -0.093666  \n",
       "date_published          0.078007              -0.108571  \n",
       "book_shelved            0.458137               0.015403  \n",
       "num_likes               1.000000              -0.076940  \n",
       "weighted_review_score  -0.076940               1.000000  "
      ]
     },
     "execution_count": 25,
     "metadata": {},
     "output_type": "execute_result"
    }
   ],
   "source": [
    "df[['ratings', 'num_of_ratings', 'date_published', 'book_shelved', 'num_likes', 'weighted_review_score']].corr()"
   ]
  },
  {
   "cell_type": "code",
   "execution_count": 26,
   "metadata": {},
   "outputs": [
    {
     "data": {
      "image/png": "[encoded data removed]",
      "text/plain": [
       "<Figure size 720x720 with 20 Axes>"
      ]
     },
     "metadata": {
      "needs_background": "light"
     },
     "output_type": "display_data"
    }
   ],
   "source": [
    "sns.pairplot(df[['ratings', 'num_of_ratings', 'date_published', 'book_shelved']])\n",
    "plt.show()"
   ]
  },
  {
   "cell_type": "code",
   "execution_count": 27,
   "metadata": {},
   "outputs": [
    {
     "data": {
      "text/html": [
       "<div>\n",
       "<style scoped>\n",
       "    .dataframe tbody tr th:only-of-type {\n",
       "        vertical-align: middle;\n",
       "    }\n",
       "\n",
       "    .dataframe tbody tr th {\n",
       "        vertical-align: top;\n",
       "    }\n",
       "\n",
       "    .dataframe thead th {\n",
       "        text-align: right;\n",
       "    }\n",
       "</style>\n",
       "<table border=\"1\" class=\"dataframe\">\n",
       "  <thead>\n",
       "    <tr style=\"text-align: right;\">\n",
       "      <th></th>\n",
       "      <th>ratings</th>\n",
       "      <th>num_of_ratings</th>\n",
       "      <th>date_published</th>\n",
       "    </tr>\n",
       "  </thead>\n",
       "  <tbody>\n",
       "    <tr>\n",
       "      <th>count</th>\n",
       "      <td>1250.000000</td>\n",
       "      <td>1.250000e+03</td>\n",
       "      <td>1250.000000</td>\n",
       "    </tr>\n",
       "    <tr>\n",
       "      <th>mean</th>\n",
       "      <td>3.989264</td>\n",
       "      <td>3.870753e+05</td>\n",
       "      <td>1966.908000</td>\n",
       "    </tr>\n",
       "    <tr>\n",
       "      <th>std</th>\n",
       "      <td>0.232219</td>\n",
       "      <td>6.183137e+05</td>\n",
       "      <td>184.513578</td>\n",
       "    </tr>\n",
       "    <tr>\n",
       "      <th>min</th>\n",
       "      <td>3.120000</td>\n",
       "      <td>2.268000e+03</td>\n",
       "      <td>-1800.000000</td>\n",
       "    </tr>\n",
       "    <tr>\n",
       "      <th>25%</th>\n",
       "      <td>3.850000</td>\n",
       "      <td>1.052758e+05</td>\n",
       "      <td>1966.250000</td>\n",
       "    </tr>\n",
       "    <tr>\n",
       "      <th>50%</th>\n",
       "      <td>3.990000</td>\n",
       "      <td>1.961790e+05</td>\n",
       "      <td>2000.000000</td>\n",
       "    </tr>\n",
       "    <tr>\n",
       "      <th>75%</th>\n",
       "      <td>4.140000</td>\n",
       "      <td>3.964685e+05</td>\n",
       "      <td>2012.000000</td>\n",
       "    </tr>\n",
       "    <tr>\n",
       "      <th>max</th>\n",
       "      <td>4.610000</td>\n",
       "      <td>8.031019e+06</td>\n",
       "      <td>2021.000000</td>\n",
       "    </tr>\n",
       "  </tbody>\n",
       "</table>\n",
       "</div>"
      ],
      "text/plain": [
       "           ratings  num_of_ratings  date_published\n",
       "count  1250.000000    1.250000e+03     1250.000000\n",
       "mean      3.989264    3.870753e+05     1966.908000\n",
       "std       0.232219    6.183137e+05      184.513578\n",
       "min       3.120000    2.268000e+03    -1800.000000\n",
       "25%       3.850000    1.052758e+05     1966.250000\n",
       "50%       3.990000    1.961790e+05     2000.000000\n",
       "75%       4.140000    3.964685e+05     2012.000000\n",
       "max       4.610000    8.031019e+06     2021.000000"
      ]
     },
     "execution_count": 27,
     "metadata": {},
     "output_type": "execute_result"
    }
   ],
   "source": [
    "feature_cols = ['ratings', 'num_of_ratings', 'date_published']\n",
    "X = df[feature_cols]\n",
    "y = df['book_shelved']\n",
    "\n",
    "X.describe()"
   ]
  },
  {
   "cell_type": "code",
   "execution_count": 28,
   "metadata": {},
   "outputs": [],
   "source": [
    "from sklearn.preprocessing import Normalizer\n",
    "# perform a  scaler transform of the dataset\n",
    "trans = Normalizer()\n",
    "X = trans.fit_transform(X)\n",
    "# convert the array back to a dataframe\n",
    "X = pd.DataFrame(X)"
   ]
  },
  {
   "cell_type": "code",
   "execution_count": 29,
   "metadata": {},
   "outputs": [
    {
     "data": {
      "text/html": [
       "<div>\n",
       "<style scoped>\n",
       "    .dataframe tbody tr th:only-of-type {\n",
       "        vertical-align: middle;\n",
       "    }\n",
       "\n",
       "    .dataframe tbody tr th {\n",
       "        vertical-align: top;\n",
       "    }\n",
       "\n",
       "    .dataframe thead th {\n",
       "        text-align: right;\n",
       "    }\n",
       "</style>\n",
       "<table border=\"1\" class=\"dataframe\">\n",
       "  <thead>\n",
       "    <tr style=\"text-align: right;\">\n",
       "      <th></th>\n",
       "      <th>0</th>\n",
       "      <th>1</th>\n",
       "      <th>2</th>\n",
       "    </tr>\n",
       "  </thead>\n",
       "  <tbody>\n",
       "    <tr>\n",
       "      <th>0</th>\n",
       "      <td>8.496949e-07</td>\n",
       "      <td>1.0</td>\n",
       "      <td>0.000390</td>\n",
       "    </tr>\n",
       "    <tr>\n",
       "      <th>1</th>\n",
       "      <td>1.160719e-06</td>\n",
       "      <td>1.0</td>\n",
       "      <td>0.000540</td>\n",
       "    </tr>\n",
       "    <tr>\n",
       "      <th>2</th>\n",
       "      <td>9.319308e-07</td>\n",
       "      <td>1.0</td>\n",
       "      <td>0.000456</td>\n",
       "    </tr>\n",
       "    <tr>\n",
       "      <th>3</th>\n",
       "      <td>1.278529e-06</td>\n",
       "      <td>1.0</td>\n",
       "      <td>0.000626</td>\n",
       "    </tr>\n",
       "    <tr>\n",
       "      <th>4</th>\n",
       "      <td>5.565919e-07</td>\n",
       "      <td>1.0</td>\n",
       "      <td>0.000249</td>\n",
       "    </tr>\n",
       "  </tbody>\n",
       "</table>\n",
       "</div>"
      ],
      "text/plain": [
       "              0    1         2\n",
       "0  8.496949e-07  1.0  0.000390\n",
       "1  1.160719e-06  1.0  0.000540\n",
       "2  9.319308e-07  1.0  0.000456\n",
       "3  1.278529e-06  1.0  0.000626\n",
       "4  5.565919e-07  1.0  0.000249"
      ]
     },
     "execution_count": 29,
     "metadata": {},
     "output_type": "execute_result"
    }
   ],
   "source": [
    "from sklearn.model_selection import train_test_split\n",
    "\n",
    "X_train, X_test, y_train, y_test = train_test_split(X, y, test_size=0.2, random_state=1)\n",
    "X.head()"
   ]
  },
  {
   "cell_type": "code",
   "execution_count": 107,
   "metadata": {},
   "outputs": [
    {
     "data": {
      "text/plain": [
       "(1000, 3)"
      ]
     },
     "execution_count": 107,
     "metadata": {},
     "output_type": "execute_result"
    }
   ],
   "source": [
    "X_train.shape"
   ]
  },
  {
   "cell_type": "code",
   "execution_count": 30,
   "metadata": {},
   "outputs": [
    {
     "data": {
      "text/plain": [
       "51      10134\n",
       "797      1752\n",
       "568      2328\n",
       "453      2734\n",
       "1132     1327\n",
       "Name: book_shelved, dtype: int64"
      ]
     },
     "execution_count": 30,
     "metadata": {},
     "output_type": "execute_result"
    }
   ],
   "source": [
    "y_train.head()"
   ]
  },
  {
   "cell_type": "code",
   "execution_count": 41,
   "metadata": {},
   "outputs": [
    {
     "name": "stdout",
     "output_type": "stream",
     "text": [
      "{'copy_X': True, 'fit_intercept': True, 'n_jobs': None, 'normalize': 'deprecated', 'positive': False}\n"
     ]
    }
   ],
   "source": [
    "from sklearn.linear_model import LinearRegression\n",
    "\n",
    "linear_reg = LinearRegression()\n",
    "print(linear_reg.get_params())"
   ]
  },
  {
   "cell_type": "code",
   "execution_count": 42,
   "metadata": {},
   "outputs": [
    {
     "data": {
      "text/plain": [
       "LinearRegression()"
      ]
     },
     "execution_count": 42,
     "metadata": {},
     "output_type": "execute_result"
    }
   ],
   "source": [
    "linear_reg.fit(X_train, y_train)"
   ]
  },
  {
   "cell_type": "code",
   "execution_count": 43,
   "metadata": {},
   "outputs": [],
   "source": [
    "predictions = linear_reg.predict(X_test)"
   ]
  },
  {
   "cell_type": "code",
   "execution_count": 44,
   "metadata": {},
   "outputs": [
    {
     "data": {
      "text/plain": [
       "array([3539.10126931, 2397.53684733,  -74.18866498, 2979.8264463 ,\n",
       "       1499.92614624])"
      ]
     },
     "execution_count": 44,
     "metadata": {},
     "output_type": "execute_result"
    }
   ],
   "source": [
    "predictions[:5]"
   ]
  },
  {
   "cell_type": "code",
   "execution_count": 45,
   "metadata": {
    "scrolled": true
   },
   "outputs": [
    {
     "name": "stdout",
     "output_type": "stream",
     "text": [
      "Coefficients: \n",
      " [-7.25509617e+07 -3.89752480e+05  1.08410881e+04]\n",
      "Root Mean squared error: 2429.98\n",
      "Coefficient of determination: 0.24\n"
     ]
    }
   ],
   "source": [
    "from sklearn.metrics import accuracy_score\n",
    "from sklearn import metrics\n",
    "\n",
    "\n",
    "# The coefficients\n",
    "print(\"Coefficients: \\n\", linear_reg.coef_)\n",
    "# The mean squared error\n",
    "print(\"Root Mean squared error: %.2f\" % np.sqrt(metrics.mean_squared_error(y_test, predictions)))\n",
    "# The coefficient of determination: 1 is perfect prediction\n",
    "print(\"Coefficient of determination: %.2f\" % metrics.r2_score(y_test, predictions))"
   ]
  },
  {
   "cell_type": "code",
   "execution_count": 66,
   "metadata": {},
   "outputs": [],
   "source": [
    "from sklearn import linear_model\n",
    "lasso_reg = linear_model.Lasso(alpha=0.15)\n",
    "lasso_reg.fit(X_train,y_train)\n",
    "predictions = lasso_reg.predict(X_test)"
   ]
  },
  {
   "cell_type": "code",
   "execution_count": 67,
   "metadata": {},
   "outputs": [
    {
     "name": "stdout",
     "output_type": "stream",
     "text": [
      "Coefficients: \n",
      " [     -0.         -309421.05087422 -123184.46691395]\n",
      "Root Mean squared error: 2428.03\n",
      "Coefficient of determination: 0.24\n"
     ]
    }
   ],
   "source": [
    "# The coefficients\n",
    "print(\"Coefficients: \\n\", lasso_reg.coef_)\n",
    "# The mean squared error\n",
    "print(\"Root Mean squared error: %.2f\" % np.sqrt(metrics.mean_squared_error(y_test, predictions)))\n",
    "# The coefficient of determination: 1 is perfect prediction\n",
    "print(\"Coefficient of determination: %.2f\" % metrics.r2_score(y_test, predictions))"
   ]
  },
  {
   "cell_type": "code",
   "execution_count": 167,
   "metadata": {},
   "outputs": [],
   "source": [
    "ridge_reg = linear_model.Ridge(alpha=0.01)\n",
    "ridge_reg.fit(X_train,y_train)\n",
    "predictions = ridge_reg.predict(X_test)"
   ]
  },
  {
   "cell_type": "code",
   "execution_count": 168,
   "metadata": {},
   "outputs": [
    {
     "name": "stdout",
     "output_type": "stream",
     "text": [
      "Coefficients: \n",
      " [-9.53609284e+01 -1.74518608e+05 -8.12498978e+04]\n",
      "Root Mean squared error: 2548.12\n",
      "Coefficient of determination: 0.16\n"
     ]
    }
   ],
   "source": [
    "# The coefficients\n",
    "print(\"Coefficients: \\n\", ridge_reg.coef_)\n",
    "# The mean squared error\n",
    "print(\"Root Mean squared error: %.2f\" % np.sqrt(metrics.mean_squared_error(y_test, predictions)))\n",
    "# The coefficient of determination: 1 is perfect prediction\n",
    "print(\"Coefficient of determination: %.2f\" % metrics.r2_score(y_test, predictions))"
   ]
  },
  {
   "cell_type": "code",
   "execution_count": 141,
   "metadata": {},
   "outputs": [
    {
     "data": {
      "text/plain": [
       "array([2121.48331385, 2121.42497887, 2121.29958587, 2121.4655016 ,\n",
       "       2121.39686374])"
      ]
     },
     "execution_count": 141,
     "metadata": {},
     "output_type": "execute_result"
    }
   ],
   "source": [
    "from sklearn.svm import SVR\n",
    "Supp_vec_reg = SVR(kernel=\"poly\", C=20000, epsilon=0.01,degree=3)\n",
    "Supp_vec_reg.fit(X_train,y_train)\n",
    "predictions = Supp_vec_reg.predict(X_test)\n",
    "predictions[:5]"
   ]
  },
  {
   "cell_type": "code",
   "execution_count": 143,
   "metadata": {},
   "outputs": [
    {
     "name": "stdout",
     "output_type": "stream",
     "text": [
      "Support vectors: \n",
      " [1000]\n",
      "Root Mean squared error: 3047.68\n",
      "Coefficient of determination: -0.20\n"
     ]
    }
   ],
   "source": [
    "# The support vectors\n",
    "print(\"Support vectors: \\n\", Supp_vec_reg.n_support_)\n",
    "# The mean squared error\n",
    "print(\"Root Mean squared error: %.2f\" % np.sqrt(metrics.mean_squared_error(y_test, predictions)))\n",
    "# The coefficient of determination: 1 is perfect prediction\n",
    "print(\"Coefficient of determination: %.2f\" % metrics.r2_score(y_test, predictions))"
   ]
  },
  {
   "cell_type": "code",
   "execution_count": 136,
   "metadata": {},
   "outputs": [
    {
     "data": {
      "text/plain": [
       "array([2120.7950058 , 2115.01861921, 2102.62367262, 2119.03027225,\n",
       "       2112.23744242])"
      ]
     },
     "execution_count": 136,
     "metadata": {},
     "output_type": "execute_result"
    }
   ],
   "source": [
    "Supp_vec_reg = SVR(kernel=\"linear\", C=100, epsilon=0.1)\n",
    "Supp_vec_reg.fit(X_train,y_train)\n",
    "predictions = Supp_vec_reg.predict(X_test)\n",
    "predictions[:5]"
   ]
  },
  {
   "cell_type": "code",
   "execution_count": 137,
   "metadata": {},
   "outputs": [
    {
     "name": "stdout",
     "output_type": "stream",
     "text": [
      "Coefficients: \n",
      " [[  -1.3162145    36.14278408 -652.95290721]]\n",
      "Root Mean squared error: 3044.86\n",
      "Coefficient of determination: -0.19\n"
     ]
    }
   ],
   "source": [
    "# The coefficients\n",
    "print(\"Coefficients: \\n\", Supp_vec_reg.coef_)\n",
    "# The mean squared error\n",
    "print(\"Root Mean squared error: %.2f\" % np.sqrt(metrics.mean_squared_error(y_test, predictions)))\n",
    "# The coefficient of determination: 1 is perfect prediction\n",
    "print(\"Coefficient of determination: %.2f\" % metrics.r2_score(y_test, predictions))"
   ]
  },
  {
   "cell_type": "code",
   "execution_count": null,
   "metadata": {},
   "outputs": [],
   "source": []
  },
  {
   "cell_type": "code",
   "execution_count": 184,
   "metadata": {},
   "outputs": [
    {
     "data": {
      "text/plain": [
       "array([2282.75 , 1954.75 , 1417.   , 2471.875, 1516.25 ])"
      ]
     },
     "execution_count": 184,
     "metadata": {},
     "output_type": "execute_result"
    }
   ],
   "source": [
    "from sklearn.neighbors import KNeighborsRegressor\n",
    "KNN_reg = KNeighborsRegressor(n_neighbors=8, weights='uniform')\n",
    "KNN_reg.fit(X_train,y_train)\n",
    "predictions = KNN_reg.predict(X_test)\n",
    "predictions[:5]"
   ]
  },
  {
   "cell_type": "code",
   "execution_count": 185,
   "metadata": {},
   "outputs": [
    {
     "name": "stdout",
     "output_type": "stream",
     "text": [
      "Root Mean squared error: 1865.35\n",
      "Coefficient of determination: 0.55\n"
     ]
    }
   ],
   "source": [
    "# # The coefficients\n",
    "# print(\"Coefficients: \\n\", Supp_vec_reg.coef_)\n",
    "# The mean squared error\n",
    "print(\"Root Mean squared error: %.2f\" % np.sqrt(metrics.mean_squared_error(y_test, predictions)))\n",
    "# The coefficient of determination: 1 is perfect prediction\n",
    "print(\"Coefficient of determination: %.2f\" % metrics.r2_score(y_test, predictions))"
   ]
  },
  {
   "cell_type": "markdown",
   "metadata": {},
   "source": [
    "#### Random Forest\n",
    "\n",
    "The simple linear regression model is not as accuract as it could get. We will try to fit the data using scikit-learn's Random Forest Regressor and see if we can get a better model. "
   ]
  },
  {
   "cell_type": "code",
   "execution_count": 32,
   "metadata": {},
   "outputs": [
    {
     "data": {
      "text/plain": [
       "RandomForestRegressor(n_estimators=1000, random_state=42)"
      ]
     },
     "execution_count": 32,
     "metadata": {},
     "output_type": "execute_result"
    }
   ],
   "source": [
    "# Import the model we are using\n",
    "from sklearn.ensemble import RandomForestRegressor\n",
    "\n",
    "# Instantiate model with 1000 decision trees\n",
    "rf = RandomForestRegressor(n_estimators = 1000, random_state = 42)\n",
    "\n",
    "# Train the model on training data\n",
    "rf.fit(X_train, y_train)"
   ]
  },
  {
   "cell_type": "code",
   "execution_count": 33,
   "metadata": {},
   "outputs": [
    {
     "data": {
      "text/plain": [
       "array([ 2902.44      ,  2525.46      ,  1453.042     ,  1878.522     ,\n",
       "        1516.3       ,  2797.526     ,  2690.107     ,  5707.303     ,\n",
       "        2408.418     ,  4210.778     ,  2089.732     ,  2584.609     ,\n",
       "        2467.697     ,  4653.872     ,  1385.806     ,  1700.957     ,\n",
       "        1782.239     ,  3633.857     ,  1802.546     ,  1495.747     ,\n",
       "        2657.154     ,  1389.573     ,  1901.104     ,  1771.241     ,\n",
       "        2157.727     ,  2809.571     ,  3320.95      ,  1851.588     ,\n",
       "        1534.192     ,  1761.747     ,  1598.373     ,  3930.608     ,\n",
       "        1648.175     ,  5415.042     ,  1806.294     ,  2942.403     ,\n",
       "        3199.981     ,  1924.485     ,  2423.992     ,  2784.651     ,\n",
       "        2042.249     ,  1727.34      ,  3607.231     ,  3215.23      ,\n",
       "        1400.802     ,  2326.88761905,  2820.888     ,  3262.316     ,\n",
       "        2407.39506667,  2176.469     ,  2026.459     ,  2272.56      ,\n",
       "        3085.619     ,  5652.373     ,  2633.649     ,  1881.424     ,\n",
       "        2961.59      ,  3608.444     ,  5098.919     ,  2138.125     ,\n",
       "        2260.377     ,  1960.255     ,  2446.395     ,  3273.588     ,\n",
       "        4342.794     ,  6329.564     ,  1986.403     ,  2796.996     ,\n",
       "        3551.508     ,  2188.034     ,  1644.192     ,  1573.493     ,\n",
       "        2439.309     ,  4432.472     ,  2907.33      ,  1299.697     ,\n",
       "        2108.81      ,  6296.183     ,  4198.306     ,  1719.62      ,\n",
       "        2338.715     ,  3965.235     ,  2147.9       ,  2099.606     ,\n",
       "        1942.985     ,  1659.25      ,  2285.473     ,  1456.282     ,\n",
       "        1580.713     ,  1926.275     ,  1537.721     ,  2554.471     ,\n",
       "        4027.308     ,  1571.034     ,  2152.018     ,  1789.461     ,\n",
       "        1759.895     ,  2913.164     , 12706.891     , 12779.166     ,\n",
       "        1776.181     ,  2206.988     ,  1899.865     ,  1873.944     ,\n",
       "        1496.602     ,  1734.982     ,  2862.776     ,  2116.644     ,\n",
       "        2333.908     ,  1818.005     ,  2776.028     ,  6015.836     ,\n",
       "        2332.743     ,  2325.11      ,  2675.065     ,  2814.118     ,\n",
       "        1643.663     ,  4436.106     ,  6117.2304    ,  4265.35      ,\n",
       "        1524.504     ,  3354.645     ,  2559.676     ,  2279.586     ,\n",
       "        4487.139     ,  1882.044     ,  4772.238     ,  1613.722     ,\n",
       "        2291.466     ,  6140.984     ,  2149.999     ,  2153.342     ,\n",
       "        1850.683     ,  1525.625     ,  1976.011     ,  6275.685     ,\n",
       "        3381.954     ,  1556.336     ,  2725.3       ,  3008.369     ,\n",
       "        3097.868     ,  2548.503     ,  1409.734     ,  2824.535     ,\n",
       "        1654.471     ,  4273.463     ,  4189.257     ,  2277.03      ,\n",
       "        1525.028     ,  3443.219     ,  2269.826     ,  1752.984     ,\n",
       "        3792.678     ,  1453.195     ,  1450.849     ,  4326.751     ,\n",
       "        6282.273     ,  2571.911     ,  4039.608     ,  3644.602     ,\n",
       "        1387.922     ,  7674.003     , 10632.317     ,  1761.319     ,\n",
       "        1500.687     ,  1736.331     ,  3225.122     , 15322.475     ,\n",
       "        1394.826     ,  5181.826     ,  6792.757     ,  1730.633     ,\n",
       "        1601.664     ,  1455.806     ,  3395.221     ,  1869.652     ,\n",
       "        5727.31      ,  1569.759     ,  1810.503     ,  2091.69      ,\n",
       "        1569.415     ,  1754.911     ,  1522.363     , 12116.281     ,\n",
       "        6336.635     , 10044.705     ,  1685.105     ,  2411.207     ,\n",
       "        5579.524     ,  1531.752     ,  2199.357     ,  2487.387     ,\n",
       "        1826.834     , 16782.426     ,  6300.045     ,  3365.619     ,\n",
       "        3530.912     ,  2506.105     ,  1427.992     ,  6676.67315   ,\n",
       "        1654.375     ,  2092.361     ,  3410.102     ,  1436.793     ,\n",
       "        1927.746     ,  3724.654     ,  3099.186     ,  2437.795     ,\n",
       "        2482.923     ,  2134.282     ,  1640.033     ,  2200.16273333,\n",
       "        2381.9       ,  1694.558     ,  1929.339     ,  4419.057     ,\n",
       "        6345.0359    ,  4253.297     ,  2216.798     ,  1936.194     ,\n",
       "        2031.175     ,  1591.184     ,  1380.757     ,  2045.003     ,\n",
       "        1357.962     ,  2131.208     ,  6414.806     ,  1769.54      ,\n",
       "        3553.759     ,  1658.826     ,  1779.956     ,  6299.878     ,\n",
       "        2832.702     ,  3613.215     ,  2057.329     ,  6573.497     ,\n",
       "        2351.523     ,  1491.488     ,  3480.257     ,  6328.3409    ,\n",
       "        3253.192     ,  1634.567     ,  5746.386     ,  2222.028     ,\n",
       "       14127.98      ,  5554.616     ,  1665.788     ,  1644.045     ,\n",
       "        5854.928     ,  1896.823     ])"
      ]
     },
     "execution_count": 33,
     "metadata": {},
     "output_type": "execute_result"
    }
   ],
   "source": [
    "# Use the forest's predict method on the test data\n",
    "predictions = rf.predict(X_test)\n",
    "predictions"
   ]
  },
  {
   "cell_type": "code",
   "execution_count": 37,
   "metadata": {},
   "outputs": [
    {
     "name": "stdout",
     "output_type": "stream",
     "text": [
      "Root Squared Absolute Error: 1911.43 degrees.\n"
     ]
    }
   ],
   "source": [
    "from sklearn.metrics import mean_squared_error\n",
    "\n",
    "# Calculate the rmse\n",
    "# the squared parameter is a boolean: If True returns MSE value, if False returns RMSE value.\n",
    "# If True returns MSE value, if False returns RMSE value.\n",
    "rmse =  mean_squared_error(y_test, predictions, squared=False)\n",
    "print('Root Squared Absolute Error:', round(np.mean(rmse), 2), 'degrees.')"
   ]
  },
  {
   "cell_type": "markdown",
   "metadata": {},
   "source": [
    "We can visualize the random forest tree to understand what's the behind-the-scenes of the model."
   ]
  },
  {
   "cell_type": "code",
   "execution_count": 38,
   "metadata": {},
   "outputs": [
    {
     "name": "stdout",
     "output_type": "stream",
     "text": [
      "Requirement already satisfied: pydot in /Users/tmt0947/opt/anaconda3/envs/csx433env/lib/python3.9/site-packages (1.4.2)\r\n",
      "Requirement already satisfied: pyparsing>=2.1.4 in /Users/tmt0947/opt/anaconda3/envs/csx433env/lib/python3.9/site-packages (from pydot) (2.4.7)\r\n"
     ]
    }
   ],
   "source": [
    "# !pip install pydot"
   ]
  },
  {
   "cell_type": "code",
   "execution_count": 49,
   "metadata": {},
   "outputs": [],
   "source": [
    "# Import tools needed for visualization\n",
    "from sklearn.tree import export_graphviz\n",
    "import pydot\n",
    "# Pull out one tree from the forest\n",
    "tree = rf.estimators_[5]\n",
    "\n",
    "# Export the image to a dot file\n",
    "export_graphviz(tree, out_file = 'images/tree.dot', feature_names = feature_cols, rounded = True, precision = 1)\n",
    "# Use dot file to create a graph\n",
    "(graph, ) = pydot.graph_from_dot_file('images/tree.dot')\n",
    "# Write graph to a png file\n",
    "graph.write_png('images/tree.png')"
   ]
  },
  {
   "cell_type": "markdown",
   "metadata": {},
   "source": [
    "The tree created above is a bit too complex to view within this notebook. So, we will create a tree wiwth short maximum depth to view it within this notebook. "
   ]
  },
  {
   "cell_type": "code",
   "execution_count": 50,
   "metadata": {},
   "outputs": [],
   "source": [
    "# Limit depth of tree to 3 levels\n",
    "rf_small = RandomForestRegressor(n_estimators=10, max_depth = 3)\n",
    "rf_small.fit(X_train, y_train)\n",
    "# Extract the small tree\n",
    "tree_small = rf_small.estimators_[5]\n",
    "# Save the tree as a png image\n",
    "export_graphviz(tree_small, out_file = 'images/small_tree.dot', feature_names = feature_cols, rounded = True, precision = 1)\n",
    "(graph, ) = pydot.graph_from_dot_file('images/small_tree.dot')\n",
    "graph.write_png('images/small_tree.png');"
   ]
  },
  {
   "cell_type": "markdown",
   "metadata": {},
   "source": [
    "<center><img src=\"small_tree.png\"></center>"
   ]
  },
  {
   "cell_type": "markdown",
   "metadata": {},
   "source": [
    "#### Neural Networks\n",
    "\n",
    "Both regressions generated models with big mean squared error values, probably because they were fed a dataset with only one highly correlated feature variable. \n",
    "\n",
    "We will use Keras models and evaluate them with scikit-learn. Here are some notes on the model:  \n",
    "* The Keras wrappers require a function as an argument. \n",
    "* This function is responsible for creating the neural network model to be evaluated.\n",
    "* The model will have a single fully hidden with 3 inpute attributes (because we have three features). \n",
    "* There are no activation functions in the output layer, because we do not want to transform the output values. \n",
    "* Adam optimiser is used because it's the industry and the most recommended benchmark in both academic and industry. "
   ]
  },
  {
   "cell_type": "code",
   "execution_count": 62,
   "metadata": {},
   "outputs": [
    {
     "name": "stdout",
     "output_type": "stream",
     "text": [
      "Baseline: -14553618.30 (5701978.33) MSE\n"
     ]
    }
   ],
   "source": [
    "from keras.models import Sequential\n",
    "from keras.layers import Dense\n",
    "from keras.wrappers.scikit_learn import KerasRegressor\n",
    "from sklearn.model_selection import cross_val_score\n",
    "from sklearn.model_selection import KFold\n",
    "\n",
    "# define base model\n",
    "def baseline_model():\n",
    "    # create model\n",
    "    model = Sequential()\n",
    "    model.add(Dense(3, input_dim=3, kernel_initializer='normal', activation='relu'))\n",
    "    model.add(Dense(1, kernel_initializer='normal'))\n",
    "    # Compile model\n",
    "    model.compile(loss='mean_squared_error', optimizer='adam')\n",
    "    return model\n",
    "# evaluate model\n",
    "estimator = KerasRegressor(build_fn=baseline_model, epochs=100, batch_size=5, verbose=0)\n",
    "kfold = KFold(n_splits=10)\n",
    "results = cross_val_score(estimator, X_train, y_train, cv=kfold)\n",
    "print(\"Baseline: %.2f (%.2f) MSE\" % (results.mean(), results.std()))"
   ]
  },
  {
   "cell_type": "markdown",
   "metadata": {},
   "source": [
    "1k exmaples in training is impossible to feed the neural network."
   ]
  },
  {
   "cell_type": "markdown",
   "metadata": {},
   "source": []
  },
  {
   "cell_type": "code",
   "execution_count": null,
   "metadata": {},
   "outputs": [],
   "source": []
  },
  {
   "cell_type": "code",
   "execution_count": null,
   "metadata": {},
   "outputs": [],
   "source": []
  },
  {
   "cell_type": "code",
   "execution_count": null,
   "metadata": {},
   "outputs": [],
   "source": []
  },
  {
   "cell_type": "code",
   "execution_count": 193,
   "metadata": {},
   "outputs": [],
   "source": [
    "df_f = pd.read_csv(\"goodreads_fiction.csv\")\n",
    "df_c = pd.read_csv(\"goodreads_crime.csv\")\n",
    "df_r = pd.read_csv(\"goodreads_religion.csv\")\n",
    "df_s = pd.read_csv(\"goodreads_science.csv\")"
   ]
  },
  {
   "cell_type": "code",
   "execution_count": 188,
   "metadata": {},
   "outputs": [],
   "source": [
    "merged_data = pd.concat([df_f, df_c, df_r, df_s])"
   ]
  },
  {
   "cell_type": "code",
   "execution_count": 189,
   "metadata": {},
   "outputs": [
    {
     "data": {
      "text/html": [
       "<div>\n",
       "<style scoped>\n",
       "    .dataframe tbody tr th:only-of-type {\n",
       "        vertical-align: middle;\n",
       "    }\n",
       "\n",
       "    .dataframe tbody tr th {\n",
       "        vertical-align: top;\n",
       "    }\n",
       "\n",
       "    .dataframe thead th {\n",
       "        text-align: right;\n",
       "    }\n",
       "</style>\n",
       "<table border=\"1\" class=\"dataframe\">\n",
       "  <thead>\n",
       "    <tr style=\"text-align: right;\">\n",
       "      <th></th>\n",
       "      <th>book_id</th>\n",
       "      <th>book_url</th>\n",
       "      <th>book_title</th>\n",
       "      <th>author_name</th>\n",
       "      <th>ratings</th>\n",
       "      <th>num_of_ratings</th>\n",
       "      <th>date_published</th>\n",
       "      <th>book_shelved</th>\n",
       "      <th>book_genre</th>\n",
       "    </tr>\n",
       "  </thead>\n",
       "  <tbody>\n",
       "    <tr>\n",
       "      <th>0</th>\n",
       "      <td>2657</td>\n",
       "      <td>https://www.goodreads.com/book/show/2657.To_Ki...</td>\n",
       "      <td>To Kill a Mockingbird (Paperback)</td>\n",
       "      <td>Harper Lee</td>\n",
       "      <td>4.27</td>\n",
       "      <td>5,025,333</td>\n",
       "      <td>1960.0</td>\n",
       "      <td>24464</td>\n",
       "      <td>fiction</td>\n",
       "    </tr>\n",
       "    <tr>\n",
       "      <th>1</th>\n",
       "      <td>40961427-1984</td>\n",
       "      <td>https://www.goodreads.com/book/show/40961427-1984</td>\n",
       "      <td>1984 (Kindle Edition)</td>\n",
       "      <td>George Orwell</td>\n",
       "      <td>4.19</td>\n",
       "      <td>3,609,831</td>\n",
       "      <td>1949.0</td>\n",
       "      <td>24368</td>\n",
       "      <td>fiction</td>\n",
       "    </tr>\n",
       "    <tr>\n",
       "      <th>2</th>\n",
       "      <td>4671</td>\n",
       "      <td>https://www.goodreads.com/book/show/4671.The_G...</td>\n",
       "      <td>The Great Gatsby (Paperback)</td>\n",
       "      <td>F. Scott Fitzgerald</td>\n",
       "      <td>3.93</td>\n",
       "      <td>4,217,051</td>\n",
       "      <td>1925.0</td>\n",
       "      <td>22232</td>\n",
       "      <td>fiction</td>\n",
       "    </tr>\n",
       "    <tr>\n",
       "      <th>3</th>\n",
       "      <td>170448</td>\n",
       "      <td>https://www.goodreads.com/book/show/170448.Ani...</td>\n",
       "      <td>Animal Farm (Mass Market Paperback)</td>\n",
       "      <td>George Orwell</td>\n",
       "      <td>3.97</td>\n",
       "      <td>3,105,131</td>\n",
       "      <td>1945.0</td>\n",
       "      <td>20400</td>\n",
       "      <td>fiction</td>\n",
       "    </tr>\n",
       "    <tr>\n",
       "      <th>4</th>\n",
       "      <td>3</td>\n",
       "      <td>https://www.goodreads.com/book/show/3.Harry_Po...</td>\n",
       "      <td>Harry Potter and the Sorcerer's Stone (Harry P...</td>\n",
       "      <td>J.K. Rowling</td>\n",
       "      <td>4.47</td>\n",
       "      <td>8,031,019</td>\n",
       "      <td>1997.0</td>\n",
       "      <td>20064</td>\n",
       "      <td>fiction</td>\n",
       "    </tr>\n",
       "    <tr>\n",
       "      <th>...</th>\n",
       "      <td>...</td>\n",
       "      <td>...</td>\n",
       "      <td>...</td>\n",
       "      <td>...</td>\n",
       "      <td>...</td>\n",
       "      <td>...</td>\n",
       "      <td>...</td>\n",
       "      <td>...</td>\n",
       "      <td>...</td>\n",
       "    </tr>\n",
       "    <tr>\n",
       "      <th>1245</th>\n",
       "      <td>8130077</td>\n",
       "      <td>https://www.goodreads.com/book/show/8130077-th...</td>\n",
       "      <td>The Screwtape Letters (Kindle Edition)</td>\n",
       "      <td>C.S. Lewis</td>\n",
       "      <td>4.23</td>\n",
       "      <td>370,181</td>\n",
       "      <td>1942.0</td>\n",
       "      <td>48</td>\n",
       "      <td>religion</td>\n",
       "    </tr>\n",
       "    <tr>\n",
       "      <th>1246</th>\n",
       "      <td>820461</td>\n",
       "      <td>https://www.goodreads.com/book/show/820461.The...</td>\n",
       "      <td>The Greek Myths (Paperback)</td>\n",
       "      <td>Robert Graves</td>\n",
       "      <td>4.17</td>\n",
       "      <td>6,714</td>\n",
       "      <td>1955.0</td>\n",
       "      <td>48</td>\n",
       "      <td>religion</td>\n",
       "    </tr>\n",
       "    <tr>\n",
       "      <th>1247</th>\n",
       "      <td>1603615</td>\n",
       "      <td>https://www.goodreads.com/book/show/1603615.Ab...</td>\n",
       "      <td>Abandonment to Divine Providence (Paperback)</td>\n",
       "      <td>Jean-Pierre de Caussade</td>\n",
       "      <td>4.01</td>\n",
       "      <td>4,124</td>\n",
       "      <td>1861.0</td>\n",
       "      <td>48</td>\n",
       "      <td>religion</td>\n",
       "    </tr>\n",
       "    <tr>\n",
       "      <th>1248</th>\n",
       "      <td>33511418</td>\n",
       "      <td>https://www.goodreads.com/book/show/33511418-t...</td>\n",
       "      <td>The Way of the Strangers: Encounters with the ...</td>\n",
       "      <td>Graeme Wood</td>\n",
       "      <td>4.14</td>\n",
       "      <td>1,018</td>\n",
       "      <td>2016.0</td>\n",
       "      <td>48</td>\n",
       "      <td>religion</td>\n",
       "    </tr>\n",
       "    <tr>\n",
       "      <th>1249</th>\n",
       "      <td>52892857</td>\n",
       "      <td>https://www.goodreads.com/book/show/52892857-t...</td>\n",
       "      <td>The Color Purple (Paperback)</td>\n",
       "      <td>Alice Walker</td>\n",
       "      <td>4.24</td>\n",
       "      <td>575,995</td>\n",
       "      <td>1982.0</td>\n",
       "      <td>48</td>\n",
       "      <td>religion</td>\n",
       "    </tr>\n",
       "  </tbody>\n",
       "</table>\n",
       "<p>4999 rows × 9 columns</p>\n",
       "</div>"
      ],
      "text/plain": [
       "            book_id                                           book_url  \\\n",
       "0              2657  https://www.goodreads.com/book/show/2657.To_Ki...   \n",
       "1     40961427-1984  https://www.goodreads.com/book/show/40961427-1984   \n",
       "2              4671  https://www.goodreads.com/book/show/4671.The_G...   \n",
       "3            170448  https://www.goodreads.com/book/show/170448.Ani...   \n",
       "4                 3  https://www.goodreads.com/book/show/3.Harry_Po...   \n",
       "...             ...                                                ...   \n",
       "1245        8130077  https://www.goodreads.com/book/show/8130077-th...   \n",
       "1246         820461  https://www.goodreads.com/book/show/820461.The...   \n",
       "1247        1603615  https://www.goodreads.com/book/show/1603615.Ab...   \n",
       "1248       33511418  https://www.goodreads.com/book/show/33511418-t...   \n",
       "1249       52892857  https://www.goodreads.com/book/show/52892857-t...   \n",
       "\n",
       "                                             book_title  \\\n",
       "0                     To Kill a Mockingbird (Paperback)   \n",
       "1                                 1984 (Kindle Edition)   \n",
       "2                          The Great Gatsby (Paperback)   \n",
       "3                   Animal Farm (Mass Market Paperback)   \n",
       "4     Harry Potter and the Sorcerer's Stone (Harry P...   \n",
       "...                                                 ...   \n",
       "1245             The Screwtape Letters (Kindle Edition)   \n",
       "1246                        The Greek Myths (Paperback)   \n",
       "1247       Abandonment to Divine Providence (Paperback)   \n",
       "1248  The Way of the Strangers: Encounters with the ...   \n",
       "1249                       The Color Purple (Paperback)   \n",
       "\n",
       "                  author_name  ratings num_of_ratings  date_published  \\\n",
       "0                  Harper Lee     4.27      5,025,333          1960.0   \n",
       "1               George Orwell     4.19      3,609,831          1949.0   \n",
       "2         F. Scott Fitzgerald     3.93      4,217,051          1925.0   \n",
       "3               George Orwell     3.97      3,105,131          1945.0   \n",
       "4                J.K. Rowling     4.47      8,031,019          1997.0   \n",
       "...                       ...      ...            ...             ...   \n",
       "1245               C.S. Lewis     4.23        370,181          1942.0   \n",
       "1246            Robert Graves     4.17          6,714          1955.0   \n",
       "1247  Jean-Pierre de Caussade     4.01          4,124          1861.0   \n",
       "1248              Graeme Wood     4.14          1,018          2016.0   \n",
       "1249             Alice Walker     4.24        575,995          1982.0   \n",
       "\n",
       "      book_shelved book_genre  \n",
       "0            24464    fiction  \n",
       "1            24368    fiction  \n",
       "2            22232    fiction  \n",
       "3            20400    fiction  \n",
       "4            20064    fiction  \n",
       "...            ...        ...  \n",
       "1245            48   religion  \n",
       "1246            48   religion  \n",
       "1247            48   religion  \n",
       "1248            48   religion  \n",
       "1249            48   religion  \n",
       "\n",
       "[4999 rows x 9 columns]"
      ]
     },
     "execution_count": 189,
     "metadata": {},
     "output_type": "execute_result"
    }
   ],
   "source": [
    "merged_data"
   ]
  },
  {
   "cell_type": "code",
   "execution_count": 194,
   "metadata": {},
   "outputs": [
    {
     "data": {
      "text/plain": [
       "[3223.5672, 289.13130504403523, 142.108, 142.108]"
      ]
     },
     "execution_count": 194,
     "metadata": {},
     "output_type": "execute_result"
    }
   ],
   "source": [
    "avg_shelved = []\n",
    "for i in [df_f,df_c,df_r,df_s]:\n",
    "    avg_shelved.append(i[\"book_shelved\"].mean())\n",
    "avg_shelved"
   ]
  },
  {
   "cell_type": "code",
   "execution_count": 195,
   "metadata": {},
   "outputs": [
    {
     "data": {
      "text/html": [
       "<div>\n",
       "<style scoped>\n",
       "    .dataframe tbody tr th:only-of-type {\n",
       "        vertical-align: middle;\n",
       "    }\n",
       "\n",
       "    .dataframe tbody tr th {\n",
       "        vertical-align: top;\n",
       "    }\n",
       "\n",
       "    .dataframe thead th {\n",
       "        text-align: right;\n",
       "    }\n",
       "</style>\n",
       "<table border=\"1\" class=\"dataframe\">\n",
       "  <thead>\n",
       "    <tr style=\"text-align: right;\">\n",
       "      <th></th>\n",
       "      <th>book_id</th>\n",
       "      <th>ratings</th>\n",
       "      <th>date_published</th>\n",
       "      <th>book_shelved</th>\n",
       "    </tr>\n",
       "  </thead>\n",
       "  <tbody>\n",
       "    <tr>\n",
       "      <th>count</th>\n",
       "      <td>1.250000e+03</td>\n",
       "      <td>1250.000000</td>\n",
       "      <td>1239.000000</td>\n",
       "      <td>1250.000000</td>\n",
       "    </tr>\n",
       "    <tr>\n",
       "      <th>mean</th>\n",
       "      <td>7.389016e+06</td>\n",
       "      <td>4.050576</td>\n",
       "      <td>1907.221146</td>\n",
       "      <td>142.108000</td>\n",
       "    </tr>\n",
       "    <tr>\n",
       "      <th>std</th>\n",
       "      <td>1.259925e+07</td>\n",
       "      <td>0.251770</td>\n",
       "      <td>386.052094</td>\n",
       "      <td>203.678809</td>\n",
       "    </tr>\n",
       "    <tr>\n",
       "      <th>min</th>\n",
       "      <td>3.500000e+02</td>\n",
       "      <td>2.390000</td>\n",
       "      <td>-1800.000000</td>\n",
       "      <td>48.000000</td>\n",
       "    </tr>\n",
       "    <tr>\n",
       "      <th>25%</th>\n",
       "      <td>8.058775e+04</td>\n",
       "      <td>3.910000</td>\n",
       "      <td>1967.500000</td>\n",
       "      <td>61.000000</td>\n",
       "    </tr>\n",
       "    <tr>\n",
       "      <th>50%</th>\n",
       "      <td>4.279630e+05</td>\n",
       "      <td>4.050000</td>\n",
       "      <td>2000.000000</td>\n",
       "      <td>86.000000</td>\n",
       "    </tr>\n",
       "    <tr>\n",
       "      <th>75%</th>\n",
       "      <td>1.037815e+07</td>\n",
       "      <td>4.210000</td>\n",
       "      <td>2009.000000</td>\n",
       "      <td>137.000000</td>\n",
       "    </tr>\n",
       "    <tr>\n",
       "      <th>max</th>\n",
       "      <td>5.841201e+07</td>\n",
       "      <td>4.700000</td>\n",
       "      <td>2021.000000</td>\n",
       "      <td>2898.000000</td>\n",
       "    </tr>\n",
       "  </tbody>\n",
       "</table>\n",
       "</div>"
      ],
      "text/plain": [
       "            book_id      ratings  date_published  book_shelved\n",
       "count  1.250000e+03  1250.000000     1239.000000   1250.000000\n",
       "mean   7.389016e+06     4.050576     1907.221146    142.108000\n",
       "std    1.259925e+07     0.251770      386.052094    203.678809\n",
       "min    3.500000e+02     2.390000    -1800.000000     48.000000\n",
       "25%    8.058775e+04     3.910000     1967.500000     61.000000\n",
       "50%    4.279630e+05     4.050000     2000.000000     86.000000\n",
       "75%    1.037815e+07     4.210000     2009.000000    137.000000\n",
       "max    5.841201e+07     4.700000     2021.000000   2898.000000"
      ]
     },
     "execution_count": 195,
     "metadata": {},
     "output_type": "execute_result"
    }
   ],
   "source": [
    "df_r.describe()"
   ]
  },
  {
   "cell_type": "code",
   "execution_count": 196,
   "metadata": {},
   "outputs": [
    {
     "data": {
      "text/html": [
       "<div>\n",
       "<style scoped>\n",
       "    .dataframe tbody tr th:only-of-type {\n",
       "        vertical-align: middle;\n",
       "    }\n",
       "\n",
       "    .dataframe tbody tr th {\n",
       "        vertical-align: top;\n",
       "    }\n",
       "\n",
       "    .dataframe thead th {\n",
       "        text-align: right;\n",
       "    }\n",
       "</style>\n",
       "<table border=\"1\" class=\"dataframe\">\n",
       "  <thead>\n",
       "    <tr style=\"text-align: right;\">\n",
       "      <th></th>\n",
       "      <th>book_id</th>\n",
       "      <th>ratings</th>\n",
       "      <th>date_published</th>\n",
       "      <th>book_shelved</th>\n",
       "    </tr>\n",
       "  </thead>\n",
       "  <tbody>\n",
       "    <tr>\n",
       "      <th>count</th>\n",
       "      <td>1.250000e+03</td>\n",
       "      <td>1250.000000</td>\n",
       "      <td>1239.000000</td>\n",
       "      <td>1250.000000</td>\n",
       "    </tr>\n",
       "    <tr>\n",
       "      <th>mean</th>\n",
       "      <td>7.389016e+06</td>\n",
       "      <td>4.050576</td>\n",
       "      <td>1907.221146</td>\n",
       "      <td>142.108000</td>\n",
       "    </tr>\n",
       "    <tr>\n",
       "      <th>std</th>\n",
       "      <td>1.259925e+07</td>\n",
       "      <td>0.251770</td>\n",
       "      <td>386.052094</td>\n",
       "      <td>203.678809</td>\n",
       "    </tr>\n",
       "    <tr>\n",
       "      <th>min</th>\n",
       "      <td>3.500000e+02</td>\n",
       "      <td>2.390000</td>\n",
       "      <td>-1800.000000</td>\n",
       "      <td>48.000000</td>\n",
       "    </tr>\n",
       "    <tr>\n",
       "      <th>25%</th>\n",
       "      <td>8.058775e+04</td>\n",
       "      <td>3.910000</td>\n",
       "      <td>1967.500000</td>\n",
       "      <td>61.000000</td>\n",
       "    </tr>\n",
       "    <tr>\n",
       "      <th>50%</th>\n",
       "      <td>4.279630e+05</td>\n",
       "      <td>4.050000</td>\n",
       "      <td>2000.000000</td>\n",
       "      <td>86.000000</td>\n",
       "    </tr>\n",
       "    <tr>\n",
       "      <th>75%</th>\n",
       "      <td>1.037815e+07</td>\n",
       "      <td>4.210000</td>\n",
       "      <td>2009.000000</td>\n",
       "      <td>137.000000</td>\n",
       "    </tr>\n",
       "    <tr>\n",
       "      <th>max</th>\n",
       "      <td>5.841201e+07</td>\n",
       "      <td>4.700000</td>\n",
       "      <td>2021.000000</td>\n",
       "      <td>2898.000000</td>\n",
       "    </tr>\n",
       "  </tbody>\n",
       "</table>\n",
       "</div>"
      ],
      "text/plain": [
       "            book_id      ratings  date_published  book_shelved\n",
       "count  1.250000e+03  1250.000000     1239.000000   1250.000000\n",
       "mean   7.389016e+06     4.050576     1907.221146    142.108000\n",
       "std    1.259925e+07     0.251770      386.052094    203.678809\n",
       "min    3.500000e+02     2.390000    -1800.000000     48.000000\n",
       "25%    8.058775e+04     3.910000     1967.500000     61.000000\n",
       "50%    4.279630e+05     4.050000     2000.000000     86.000000\n",
       "75%    1.037815e+07     4.210000     2009.000000    137.000000\n",
       "max    5.841201e+07     4.700000     2021.000000   2898.000000"
      ]
     },
     "execution_count": 196,
     "metadata": {},
     "output_type": "execute_result"
    }
   ],
   "source": [
    "df_s.describe()"
   ]
  },
  {
   "cell_type": "code",
   "execution_count": null,
   "metadata": {},
   "outputs": [],
   "source": []
  }
 ],
 "metadata": {
  "interpreter": {
   "hash": "7d9279c439293cd56693e7c05115c53cbb1633ee63d7052d68a345e17a860490"
  },
  "kernelspec": {
   "display_name": "Python 3 (ipykernel)",
   "language": "python",
   "name": "python3"
  },
  "language_info": {
   "codemirror_mode": {
    "name": "ipython",
    "version": 3
   },
   "file_extension": ".py",
   "mimetype": "text/x-python",
   "name": "python",
   "nbconvert_exporter": "python",
   "pygments_lexer": "ipython3",
   "version": "3.8.5"
  },
  "toc": {
   "base_numbering": 1,
   "nav_menu": {},
   "number_sections": true,
   "sideBar": true,
   "skip_h1_title": false,
   "title_cell": "Table of Contents",
   "title_sidebar": "Contents",
   "toc_cell": false,
   "toc_position": {},
   "toc_section_display": true,
   "toc_window_display": false
  }
 },
 "nbformat": 4,
 "nbformat_minor": 2
}
